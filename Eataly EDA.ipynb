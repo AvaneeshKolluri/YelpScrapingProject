{
 "cells": [
  {
   "cell_type": "code",
   "execution_count": 1,
   "metadata": {},
   "outputs": [],
   "source": [
    "import pandas as pd\n",
    "import numpy as np\n",
    "import seaborn as sns\n",
    "import matplotlib.pyplot as plt"
   ]
  },
  {
   "cell_type": "code",
   "execution_count": 2,
   "metadata": {},
   "outputs": [],
   "source": [
    "thaiVilla = pd.read_excel('EatalyReview.xlsx').drop(columns = ['Unnamed: 0'])\n",
    "thaiVilla['Date'] = pd.to_datetime(thaiVilla['Date'])"
   ]
  },
  {
   "cell_type": "code",
   "execution_count": 3,
   "metadata": {},
   "outputs": [
    {
     "data": {
      "text/html": [
       "<div>\n",
       "<style scoped>\n",
       "    .dataframe tbody tr th:only-of-type {\n",
       "        vertical-align: middle;\n",
       "    }\n",
       "\n",
       "    .dataframe tbody tr th {\n",
       "        vertical-align: top;\n",
       "    }\n",
       "\n",
       "    .dataframe thead th {\n",
       "        text-align: right;\n",
       "    }\n",
       "</style>\n",
       "<table border=\"1\" class=\"dataframe\">\n",
       "  <thead>\n",
       "    <tr style=\"text-align: right;\">\n",
       "      <th></th>\n",
       "      <th>Friends</th>\n",
       "      <th>Name</th>\n",
       "      <th>Rating</th>\n",
       "      <th>Review</th>\n",
       "      <th>UserReviews</th>\n",
       "      <th>Photos</th>\n",
       "      <th>Date</th>\n",
       "    </tr>\n",
       "  </thead>\n",
       "  <tbody>\n",
       "    <tr>\n",
       "      <th>0</th>\n",
       "      <td>73</td>\n",
       "      <td>Jill L.</td>\n",
       "      <td>5</td>\n",
       "      <td>I had never been to an Eataly before so this w...</td>\n",
       "      <td>156</td>\n",
       "      <td>222</td>\n",
       "      <td>2021-10-13</td>\n",
       "    </tr>\n",
       "    <tr>\n",
       "      <th>1</th>\n",
       "      <td>3210</td>\n",
       "      <td>Tiffany D.</td>\n",
       "      <td>3</td>\n",
       "      <td>Smaller than the one at Flatiron seemingly or ...</td>\n",
       "      <td>2630</td>\n",
       "      <td>9554</td>\n",
       "      <td>2021-10-27</td>\n",
       "    </tr>\n",
       "    <tr>\n",
       "      <th>2</th>\n",
       "      <td>2013</td>\n",
       "      <td>Giacomo C.</td>\n",
       "      <td>3</td>\n",
       "      <td>I've always visited the other location by the ...</td>\n",
       "      <td>1383</td>\n",
       "      <td>3762</td>\n",
       "      <td>2021-10-01</td>\n",
       "    </tr>\n",
       "    <tr>\n",
       "      <th>3</th>\n",
       "      <td>131</td>\n",
       "      <td>Warren D.</td>\n",
       "      <td>5</td>\n",
       "      <td>I've walked through the Eataly on the Las Vega...</td>\n",
       "      <td>588</td>\n",
       "      <td>476</td>\n",
       "      <td>2021-09-28</td>\n",
       "    </tr>\n",
       "    <tr>\n",
       "      <th>4</th>\n",
       "      <td>304</td>\n",
       "      <td>Jamie W.</td>\n",
       "      <td>4</td>\n",
       "      <td>This is such a fun place to just walk around a...</td>\n",
       "      <td>517</td>\n",
       "      <td>830</td>\n",
       "      <td>2021-08-23</td>\n",
       "    </tr>\n",
       "    <tr>\n",
       "      <th>...</th>\n",
       "      <td>...</td>\n",
       "      <td>...</td>\n",
       "      <td>...</td>\n",
       "      <td>...</td>\n",
       "      <td>...</td>\n",
       "      <td>...</td>\n",
       "      <td>...</td>\n",
       "    </tr>\n",
       "    <tr>\n",
       "      <th>1020</th>\n",
       "      <td>1</td>\n",
       "      <td>Michele A.</td>\n",
       "      <td>4</td>\n",
       "      <td>Had dinner at Pizza &amp; Pasta and it was yummy! ...</td>\n",
       "      <td>67</td>\n",
       "      <td>3</td>\n",
       "      <td>2017-11-21</td>\n",
       "    </tr>\n",
       "    <tr>\n",
       "      <th>1021</th>\n",
       "      <td>0</td>\n",
       "      <td>R B.</td>\n",
       "      <td>2</td>\n",
       "      <td>We ate at the Italian pasta/pizza restaurant. ...</td>\n",
       "      <td>4</td>\n",
       "      <td>0</td>\n",
       "      <td>2016-09-18</td>\n",
       "    </tr>\n",
       "    <tr>\n",
       "      <th>1022</th>\n",
       "      <td>197</td>\n",
       "      <td>Brittney P.</td>\n",
       "      <td>2</td>\n",
       "      <td>Walking around near closing in the Gelato sect...</td>\n",
       "      <td>1</td>\n",
       "      <td>0</td>\n",
       "      <td>2016-08-19</td>\n",
       "    </tr>\n",
       "    <tr>\n",
       "      <th>1023</th>\n",
       "      <td>2</td>\n",
       "      <td>Stanley S.</td>\n",
       "      <td>4</td>\n",
       "      <td>The concept s very cool and the food very good...</td>\n",
       "      <td>391</td>\n",
       "      <td>0</td>\n",
       "      <td>2017-10-27</td>\n",
       "    </tr>\n",
       "    <tr>\n",
       "      <th>1024</th>\n",
       "      <td>0</td>\n",
       "      <td>K K.</td>\n",
       "      <td>3</td>\n",
       "      <td>I have been to Eataly maybe 5 or 6 times now (...</td>\n",
       "      <td>4</td>\n",
       "      <td>0</td>\n",
       "      <td>2016-09-16</td>\n",
       "    </tr>\n",
       "  </tbody>\n",
       "</table>\n",
       "<p>1025 rows × 7 columns</p>\n",
       "</div>"
      ],
      "text/plain": [
       "      Friends         Name  Rating  \\\n",
       "0          73      Jill L.       5   \n",
       "1        3210   Tiffany D.       3   \n",
       "2        2013   Giacomo C.       3   \n",
       "3         131    Warren D.       5   \n",
       "4         304     Jamie W.       4   \n",
       "...       ...          ...     ...   \n",
       "1020        1   Michele A.       4   \n",
       "1021        0         R B.       2   \n",
       "1022      197  Brittney P.       2   \n",
       "1023        2   Stanley S.       4   \n",
       "1024        0         K K.       3   \n",
       "\n",
       "                                                 Review  UserReviews Photos  \\\n",
       "0     I had never been to an Eataly before so this w...          156    222   \n",
       "1     Smaller than the one at Flatiron seemingly or ...         2630   9554   \n",
       "2     I've always visited the other location by the ...         1383   3762   \n",
       "3     I've walked through the Eataly on the Las Vega...          588    476   \n",
       "4     This is such a fun place to just walk around a...          517    830   \n",
       "...                                                 ...          ...    ...   \n",
       "1020  Had dinner at Pizza & Pasta and it was yummy! ...           67      3   \n",
       "1021  We ate at the Italian pasta/pizza restaurant. ...            4      0   \n",
       "1022  Walking around near closing in the Gelato sect...            1      0   \n",
       "1023  The concept s very cool and the food very good...          391      0   \n",
       "1024  I have been to Eataly maybe 5 or 6 times now (...            4      0   \n",
       "\n",
       "           Date  \n",
       "0    2021-10-13  \n",
       "1    2021-10-27  \n",
       "2    2021-10-01  \n",
       "3    2021-09-28  \n",
       "4    2021-08-23  \n",
       "...         ...  \n",
       "1020 2017-11-21  \n",
       "1021 2016-09-18  \n",
       "1022 2016-08-19  \n",
       "1023 2017-10-27  \n",
       "1024 2016-09-16  \n",
       "\n",
       "[1025 rows x 7 columns]"
      ]
     },
     "execution_count": 3,
     "metadata": {},
     "output_type": "execute_result"
    }
   ],
   "source": [
    "thaiVilla"
   ]
  },
  {
   "cell_type": "code",
   "execution_count": 4,
   "metadata": {},
   "outputs": [],
   "source": [
    "thaiMenu = {'Meatballs',\n",
    " 'Side Salad - Insalatina',\n",
    " 'Prosciutto and Mozzarella',\n",
    " 'Housemade Focaccia',\n",
    " 'Burrata',\n",
    " 'Prosciutto San Daniele',\n",
    " 'Soppressata - Sweet',\n",
    " 'Soppressata - Spicy',\n",
    " 'Housemade Focaccia -Black Truffle',\n",
    " 'Housemade Focaccia - Black Pepper and Cheese',\n",
    " 'Otto Tondo Bread',\n",
    " 'Bruschetta Ricotta e Tartufo',\n",
    " 'Chickpea Salad',\n",
    " 'Kale and Quinoa Salad',\n",
    " 'Gem Lettuce and Tuna Salad',\n",
    " 'Autunnale',\n",
    " 'Agnolotti del Plin',\n",
    " 'Spaghetti al Pomodoro',\n",
    " 'Bucatini allAmatriciana',\n",
    " 'Tagliatelle with Bolognese Rag',\n",
    " 'Classic Lasagna',\n",
    " 'Ravioli di Zucca',\n",
    " 'Vesuvio with Sausage and Rapini',\n",
    " 'Pappardelle al Ragu di Funghi e Tartufo',\n",
    " 'Marinara Pizza',\n",
    " 'Margherita Verace Pizza',\n",
    " 'Four Cheese (Quattro Formaggi) Pizza',\n",
    " 'Spicy Salami (Massese) Pizza',\n",
    " 'Italian Sausage (Salsicciota) Pizza',\n",
    " 'Squash and Pancetta Pizza (Zuccarella)',\n",
    " 'Calzone Classico',\n",
    " 'Burrata and Broccoli Rabe Pizza (Burratona)',\n",
    " 'Eggplant Parmigiana Pizza',\n",
    " 'Capricciosa Pizza',\n",
    " 'Classic Tiramisu',\n",
    " 'Cioccolato',\n",
    " 'Profiteroles',\n",
    " 'Panna Cotta with Fresh Berries',\n",
    " 'Loacker Quadratini (8.8 oz.)',\n",
    " 'Bjorn Qorn',\n",
    " 'Lurisia Still Water (16.9 oz.)',\n",
    " 'Lurisia Sparkling Water (16.9 oz.)',\n",
    " 'Lurisia Still Water (33.8 oz.)',\n",
    " 'Lurisia Sparkling Water (33.8 oz.)',\n",
    " 'Lurisia Gazzosa (9.3 oz.)',\n",
    " 'Mole Cola (12.8 oz.)',\n",
    " 'Mole Cola Senza (12.8 oz.)',\n",
    " 'Niasca Limonata (8.45 oz.)',\n",
    " 'Lurisia Chinotto (9.3 oz.)'}"
   ]
  },
  {
   "cell_type": "markdown",
   "metadata": {},
   "source": [
    "# Distribution of the Friends Feature"
   ]
  },
  {
   "cell_type": "code",
   "execution_count": 5,
   "metadata": {},
   "outputs": [],
   "source": [
    "friends = thaiVilla['Friends']"
   ]
  },
  {
   "cell_type": "code",
   "execution_count": 6,
   "metadata": {},
   "outputs": [
    {
     "data": {
      "image/png": "[encoded data removed]",
      "text/plain": [
       "<Figure size 432x288 with 1 Axes>"
      ]
     },
     "metadata": {
      "needs_background": "light"
     },
     "output_type": "display_data"
    }
   ],
   "source": [
    "friends.hist(bins = 100)\n",
    "plt.xlabel('Number of Friends')\n",
    "plt.ylabel('Frequency')\n",
    "plt.xlim(xmin=0, xmax = 500)\n",
    "plt.title('Distribution of Friends')\n",
    "#plt.figure(figsize=(20,20))\n",
    "plt.show()"
   ]
  },
  {
   "cell_type": "code",
   "execution_count": 7,
   "metadata": {},
   "outputs": [
    {
     "data": {
      "text/plain": [
       "count    1025.000000\n",
       "mean      171.891707\n",
       "std       464.020982\n",
       "min         0.000000\n",
       "25%         1.000000\n",
       "50%        38.000000\n",
       "75%       177.000000\n",
       "max      5000.000000\n",
       "Name: Friends, dtype: float64"
      ]
     },
     "execution_count": 7,
     "metadata": {},
     "output_type": "execute_result"
    }
   ],
   "source": [
    "friends.describe()"
   ]
  },
  {
   "cell_type": "markdown",
   "metadata": {},
   "source": [
    "# Distribution of the Ratings Feature"
   ]
  },
  {
   "cell_type": "code",
   "execution_count": 8,
   "metadata": {},
   "outputs": [
    {
     "data": {
      "image/png": "[encoded data removed]",
      "text/plain": [
       "<Figure size 432x288 with 1 Axes>"
      ]
     },
     "metadata": {
      "needs_background": "light"
     },
     "output_type": "display_data"
    }
   ],
   "source": [
    "Ratings = thaiVilla['Rating']\n",
    "Ratings.hist(bins = 5)\n",
    "plt.xlabel('Rating')\n",
    "plt.ylabel('Frequency')\n",
    "#plt.xlim(xmin=0, xmax = 150)\n",
    "plt.title('Distribution of Ratings')\n",
    "#plt.figure(figsize=(20,20))\n",
    "plt.show()"
   ]
  },
  {
   "cell_type": "code",
   "execution_count": 9,
   "metadata": {},
   "outputs": [
    {
     "data": {
      "text/plain": [
       "count    1025.000000\n",
       "mean        3.628293\n",
       "std         1.322647\n",
       "min         1.000000\n",
       "25%         3.000000\n",
       "50%         4.000000\n",
       "75%         5.000000\n",
       "max         5.000000\n",
       "Name: Rating, dtype: float64"
      ]
     },
     "execution_count": 9,
     "metadata": {},
     "output_type": "execute_result"
    }
   ],
   "source": [
    "Ratings.describe()"
   ]
  },
  {
   "cell_type": "markdown",
   "metadata": {},
   "source": [
    "# Distribution of the UserReviews Feature"
   ]
  },
  {
   "cell_type": "code",
   "execution_count": 10,
   "metadata": {},
   "outputs": [
    {
     "data": {
      "image/png": "[encoded data removed]",
      "text/plain": [
       "<Figure size 432x288 with 1 Axes>"
      ]
     },
     "metadata": {
      "needs_background": "light"
     },
     "output_type": "display_data"
    }
   ],
   "source": [
    "UserReviews = thaiVilla['UserReviews']\n",
    "UserReviews.hist(bins = 50)\n",
    "plt.xlabel('Rating')\n",
    "plt.ylabel('Frequency')\n",
    "plt.xlim(xmin=0, xmax = 2000)\n",
    "plt.title('Distribution of UserReviews')\n",
    "#plt.figure(figsize=(20,20))\n",
    "plt.show()"
   ]
  },
  {
   "cell_type": "code",
   "execution_count": 11,
   "metadata": {},
   "outputs": [
    {
     "data": {
      "text/plain": [
       "count    1025.000000\n",
       "mean      203.434146\n",
       "std       443.129410\n",
       "min         1.000000\n",
       "25%        18.000000\n",
       "50%        58.000000\n",
       "75%       190.000000\n",
       "max      7738.000000\n",
       "Name: UserReviews, dtype: float64"
      ]
     },
     "execution_count": 11,
     "metadata": {},
     "output_type": "execute_result"
    }
   ],
   "source": [
    "UserReviews.describe()"
   ]
  },
  {
   "cell_type": "markdown",
   "metadata": {},
   "source": [
    "# Distribution of the Photos Feature"
   ]
  },
  {
   "cell_type": "code",
   "execution_count": 12,
   "metadata": {},
   "outputs": [
    {
     "data": {
      "image/png": "[encoded data removed]",
      "text/plain": [
       "<Figure size 432x288 with 1 Axes>"
      ]
     },
     "metadata": {
      "needs_background": "light"
     },
     "output_type": "display_data"
    }
   ],
   "source": [
    "Photos = thaiVilla['Photos']\n",
    "Photos.hist(bins = 1000)\n",
    "plt.xlabel('Number of Photos')\n",
    "plt.ylabel('Frequency')\n",
    "plt.xlim(xmin=0, xmax = 400)\n",
    "plt.title('Distribution of Photos')\n",
    "#plt.figure(figsize=(20,20))\n",
    "plt.show()"
   ]
  },
  {
   "cell_type": "code",
   "execution_count": 13,
   "metadata": {},
   "outputs": [
    {
     "data": {
      "text/plain": [
       "count     1025\n",
       "unique     379\n",
       "top          0\n",
       "freq       180\n",
       "Name: Photos, dtype: object"
      ]
     },
     "execution_count": 13,
     "metadata": {},
     "output_type": "execute_result"
    }
   ],
   "source": [
    "Photos.describe()"
   ]
  },
  {
   "cell_type": "markdown",
   "metadata": {},
   "source": [
    "# Time Series of Ratings vs Time"
   ]
  },
  {
   "cell_type": "code",
   "execution_count": 14,
   "metadata": {},
   "outputs": [],
   "source": [
    "import datetime\n",
    "import random\n",
    "import matplotlib.pyplot as plt"
   ]
  },
  {
   "cell_type": "code",
   "execution_count": 15,
   "metadata": {},
   "outputs": [],
   "source": [
    "sortedDf = thaiVilla.sort_values(['Date'], ascending=True)"
   ]
  },
  {
   "cell_type": "code",
   "execution_count": 16,
   "metadata": {},
   "outputs": [],
   "source": [
    "sortedDf = pd.DataFrame(sortedDf.groupby(\"Date\")[\"Rating\"].mean())"
   ]
  },
  {
   "cell_type": "code",
   "execution_count": 17,
   "metadata": {},
   "outputs": [],
   "source": [
    "x = sortedDf.index\n",
    "y = sortedDf['Rating']"
   ]
  },
  {
   "cell_type": "code",
   "execution_count": 18,
   "metadata": {},
   "outputs": [
    {
     "data": {
      "image/png": "[encoded data removed]",
      "text/plain": [
       "<Figure size 432x288 with 1 Axes>"
      ]
     },
     "metadata": {
      "needs_background": "light"
     },
     "output_type": "display_data"
    },
    {
     "data": {
      "text/plain": [
       "<Figure size 3600x1080 with 0 Axes>"
      ]
     },
     "metadata": {},
     "output_type": "display_data"
    }
   ],
   "source": [
    "plt.plot(x,y)\n",
    "plt.title('Daily Rating Aggregate')\n",
    "plt.ylabel('Rating')\n",
    "plt.xlabel('Day')\n",
    "plt.figure(figsize=(50,15))\n",
    "plt.show()"
   ]
  },
  {
   "cell_type": "code",
   "execution_count": 19,
   "metadata": {},
   "outputs": [],
   "source": [
    "sortedDf = thaiVilla.sort_values(['Date'], ascending=True)"
   ]
  },
  {
   "cell_type": "code",
   "execution_count": 20,
   "metadata": {},
   "outputs": [],
   "source": [
    "monthlyRating = pd.DataFrame(sortedDf.groupby([sortedDf['Date'].dt.year.rename('year'), sortedDf['Date'].dt.month_name().rename('month')])['Rating'].mean().reset_index())"
   ]
  },
  {
   "cell_type": "code",
   "execution_count": 21,
   "metadata": {},
   "outputs": [],
   "source": [
    "monthlyRating['my'] = monthlyRating['year'].astype(str) + ' ' + monthlyRating['month'].astype(str)"
   ]
  },
  {
   "cell_type": "code",
   "execution_count": 22,
   "metadata": {},
   "outputs": [
    {
     "data": {
      "text/html": [
       "<div>\n",
       "<style scoped>\n",
       "    .dataframe tbody tr th:only-of-type {\n",
       "        vertical-align: middle;\n",
       "    }\n",
       "\n",
       "    .dataframe tbody tr th {\n",
       "        vertical-align: top;\n",
       "    }\n",
       "\n",
       "    .dataframe thead th {\n",
       "        text-align: right;\n",
       "    }\n",
       "</style>\n",
       "<table border=\"1\" class=\"dataframe\">\n",
       "  <thead>\n",
       "    <tr style=\"text-align: right;\">\n",
       "      <th></th>\n",
       "      <th>year</th>\n",
       "      <th>month</th>\n",
       "      <th>Rating</th>\n",
       "      <th>my</th>\n",
       "    </tr>\n",
       "  </thead>\n",
       "  <tbody>\n",
       "    <tr>\n",
       "      <th>0</th>\n",
       "      <td>2016</td>\n",
       "      <td>April</td>\n",
       "      <td>5.000000</td>\n",
       "      <td>2016 April</td>\n",
       "    </tr>\n",
       "    <tr>\n",
       "      <th>1</th>\n",
       "      <td>2016</td>\n",
       "      <td>August</td>\n",
       "      <td>3.387755</td>\n",
       "      <td>2016 August</td>\n",
       "    </tr>\n",
       "    <tr>\n",
       "      <th>2</th>\n",
       "      <td>2016</td>\n",
       "      <td>December</td>\n",
       "      <td>3.214286</td>\n",
       "      <td>2016 December</td>\n",
       "    </tr>\n",
       "    <tr>\n",
       "      <th>3</th>\n",
       "      <td>2016</td>\n",
       "      <td>November</td>\n",
       "      <td>3.846154</td>\n",
       "      <td>2016 November</td>\n",
       "    </tr>\n",
       "    <tr>\n",
       "      <th>4</th>\n",
       "      <td>2016</td>\n",
       "      <td>October</td>\n",
       "      <td>3.400000</td>\n",
       "      <td>2016 October</td>\n",
       "    </tr>\n",
       "    <tr>\n",
       "      <th>...</th>\n",
       "      <td>...</td>\n",
       "      <td>...</td>\n",
       "      <td>...</td>\n",
       "      <td>...</td>\n",
       "    </tr>\n",
       "    <tr>\n",
       "      <th>58</th>\n",
       "      <td>2021</td>\n",
       "      <td>June</td>\n",
       "      <td>3.400000</td>\n",
       "      <td>2021 June</td>\n",
       "    </tr>\n",
       "    <tr>\n",
       "      <th>59</th>\n",
       "      <td>2021</td>\n",
       "      <td>March</td>\n",
       "      <td>4.600000</td>\n",
       "      <td>2021 March</td>\n",
       "    </tr>\n",
       "    <tr>\n",
       "      <th>60</th>\n",
       "      <td>2021</td>\n",
       "      <td>May</td>\n",
       "      <td>4.500000</td>\n",
       "      <td>2021 May</td>\n",
       "    </tr>\n",
       "    <tr>\n",
       "      <th>61</th>\n",
       "      <td>2021</td>\n",
       "      <td>October</td>\n",
       "      <td>3.600000</td>\n",
       "      <td>2021 October</td>\n",
       "    </tr>\n",
       "    <tr>\n",
       "      <th>62</th>\n",
       "      <td>2021</td>\n",
       "      <td>September</td>\n",
       "      <td>4.400000</td>\n",
       "      <td>2021 September</td>\n",
       "    </tr>\n",
       "  </tbody>\n",
       "</table>\n",
       "<p>63 rows × 4 columns</p>\n",
       "</div>"
      ],
      "text/plain": [
       "    year      month    Rating              my\n",
       "0   2016      April  5.000000      2016 April\n",
       "1   2016     August  3.387755     2016 August\n",
       "2   2016   December  3.214286   2016 December\n",
       "3   2016   November  3.846154   2016 November\n",
       "4   2016    October  3.400000    2016 October\n",
       "..   ...        ...       ...             ...\n",
       "58  2021       June  3.400000       2021 June\n",
       "59  2021      March  4.600000      2021 March\n",
       "60  2021        May  4.500000        2021 May\n",
       "61  2021    October  3.600000    2021 October\n",
       "62  2021  September  4.400000  2021 September\n",
       "\n",
       "[63 rows x 4 columns]"
      ]
     },
     "execution_count": 22,
     "metadata": {},
     "output_type": "execute_result"
    }
   ],
   "source": [
    "monthlyRating"
   ]
  },
  {
   "cell_type": "code",
   "execution_count": 23,
   "metadata": {},
   "outputs": [],
   "source": [
    "x = monthlyRating['my']\n",
    "y = monthlyRating['Rating']"
   ]
  },
  {
   "cell_type": "code",
   "execution_count": 24,
   "metadata": {},
   "outputs": [
    {
     "data": {
      "image/png": "[encoded data removed]",
      "text/plain": [
       "<Figure size 432x288 with 1 Axes>"
      ]
     },
     "metadata": {
      "needs_background": "light"
     },
     "output_type": "display_data"
    },
    {
     "data": {
      "text/plain": [
       "<Figure size 3600x1080 with 0 Axes>"
      ]
     },
     "metadata": {},
     "output_type": "display_data"
    }
   ],
   "source": [
    "plt.plot(x,y)\n",
    "plt.title('Monthly Rating Aggregate')\n",
    "plt.ylabel('Rating')\n",
    "plt.xlabel('Month and Year')\n",
    "plt.figure(figsize=(50,15))\n",
    "plt.show()"
   ]
  },
  {
   "cell_type": "markdown",
   "metadata": {},
   "source": [
    "# Food Occurences in Menu"
   ]
  },
  {
   "cell_type": "code",
   "execution_count": 25,
   "metadata": {},
   "outputs": [],
   "source": [
    "lst = []\n",
    "for i, row in thaiVilla.iterrows():\n",
    "    count = 0\n",
    "    s = row.Review.lower().replace(' ', '')\n",
    "    for i in thaiMenu:\n",
    "        i = i.lower()\n",
    "        if i.replace(' ', '') in s:\n",
    "            count += 1\n",
    "    lst.append(count)\n",
    "    \n",
    "#     print(i, row)\n",
    "#     count = 0\n",
    "#     s = row.Review.lower()\n",
    "#     s = s.plit()\n",
    "#     seven = s[:7]\n",
    "#     six = s[:6]\n",
    "#     five = s[:5]\n",
    "#     four = s[:4]\n",
    "#     three = s[:3]\n",
    "#     two = s[:2]\n",
    "#     for j in s:\n",
    "#         if j in thaiMenu:\n",
    "#             count += 1\n",
    "#     for j in s:\n",
    "#         if seven in s or sixe.....:\n",
    "#             count += 1\n",
    "#         seven = seven[1:] + [j]\n",
    "#         ...\n",
    "#     lst.append(count)\n",
    "#     break"
   ]
  },
  {
   "cell_type": "code",
   "execution_count": 26,
   "metadata": {},
   "outputs": [],
   "source": [
    "thaiVilla['Food Occurs'] = lst"
   ]
  },
  {
   "cell_type": "markdown",
   "metadata": {},
   "source": [
    "# Catching Sentiment in Reviews"
   ]
  },
  {
   "cell_type": "code",
   "execution_count": 27,
   "metadata": {},
   "outputs": [],
   "source": [
    "positive = {'best', 'amazing', 'love', 'good', 'perfect', 'fantastic', 'beautiful', 'yummy', 'delicious'}\n",
    "negative = {'horrible', 'bad', 'gross', 'hate', 'disgusting', 'dread', 'terrible'}"
   ]
  },
  {
   "cell_type": "code",
   "execution_count": 28,
   "metadata": {},
   "outputs": [],
   "source": [
    "plst = []\n",
    "nlst = []\n",
    "for i, row in thaiVilla.iterrows():\n",
    "    gcount = 0\n",
    "    ncount = 0\n",
    "    s = row.Review.lower().replace(' ', '')\n",
    "    for i in positive:\n",
    "        if i in s:\n",
    "            gcount += 1\n",
    "    for i in negative:\n",
    "        if i in s:\n",
    "            ncount += 1     \n",
    "    plst.append(gcount)\n",
    "    nlst.append(ncount)"
   ]
  },
  {
   "cell_type": "code",
   "execution_count": 29,
   "metadata": {},
   "outputs": [],
   "source": [
    "thaiVilla['Positive Occurs'] = plst\n",
    "thaiVilla['Negative Occurs'] = nlst"
   ]
  },
  {
   "cell_type": "code",
   "execution_count": 30,
   "metadata": {},
   "outputs": [
    {
     "data": {
      "text/html": [
       "<div>\n",
       "<style scoped>\n",
       "    .dataframe tbody tr th:only-of-type {\n",
       "        vertical-align: middle;\n",
       "    }\n",
       "\n",
       "    .dataframe tbody tr th {\n",
       "        vertical-align: top;\n",
       "    }\n",
       "\n",
       "    .dataframe thead th {\n",
       "        text-align: right;\n",
       "    }\n",
       "</style>\n",
       "<table border=\"1\" class=\"dataframe\">\n",
       "  <thead>\n",
       "    <tr style=\"text-align: right;\">\n",
       "      <th></th>\n",
       "      <th>Friends</th>\n",
       "      <th>Name</th>\n",
       "      <th>Rating</th>\n",
       "      <th>Review</th>\n",
       "      <th>UserReviews</th>\n",
       "      <th>Photos</th>\n",
       "      <th>Date</th>\n",
       "      <th>Food Occurs</th>\n",
       "      <th>Positive Occurs</th>\n",
       "      <th>Negative Occurs</th>\n",
       "    </tr>\n",
       "  </thead>\n",
       "  <tbody>\n",
       "    <tr>\n",
       "      <th>0</th>\n",
       "      <td>73</td>\n",
       "      <td>Jill L.</td>\n",
       "      <td>5</td>\n",
       "      <td>I had never been to an Eataly before so this w...</td>\n",
       "      <td>156</td>\n",
       "      <td>222</td>\n",
       "      <td>2021-10-13</td>\n",
       "      <td>0</td>\n",
       "      <td>1</td>\n",
       "      <td>0</td>\n",
       "    </tr>\n",
       "    <tr>\n",
       "      <th>1</th>\n",
       "      <td>3210</td>\n",
       "      <td>Tiffany D.</td>\n",
       "      <td>3</td>\n",
       "      <td>Smaller than the one at Flatiron seemingly or ...</td>\n",
       "      <td>2630</td>\n",
       "      <td>9554</td>\n",
       "      <td>2021-10-27</td>\n",
       "      <td>0</td>\n",
       "      <td>1</td>\n",
       "      <td>0</td>\n",
       "    </tr>\n",
       "    <tr>\n",
       "      <th>2</th>\n",
       "      <td>2013</td>\n",
       "      <td>Giacomo C.</td>\n",
       "      <td>3</td>\n",
       "      <td>I've always visited the other location by the ...</td>\n",
       "      <td>1383</td>\n",
       "      <td>3762</td>\n",
       "      <td>2021-10-01</td>\n",
       "      <td>0</td>\n",
       "      <td>1</td>\n",
       "      <td>1</td>\n",
       "    </tr>\n",
       "    <tr>\n",
       "      <th>3</th>\n",
       "      <td>131</td>\n",
       "      <td>Warren D.</td>\n",
       "      <td>5</td>\n",
       "      <td>I've walked through the Eataly on the Las Vega...</td>\n",
       "      <td>588</td>\n",
       "      <td>476</td>\n",
       "      <td>2021-09-28</td>\n",
       "      <td>0</td>\n",
       "      <td>2</td>\n",
       "      <td>0</td>\n",
       "    </tr>\n",
       "    <tr>\n",
       "      <th>4</th>\n",
       "      <td>304</td>\n",
       "      <td>Jamie W.</td>\n",
       "      <td>4</td>\n",
       "      <td>This is such a fun place to just walk around a...</td>\n",
       "      <td>517</td>\n",
       "      <td>830</td>\n",
       "      <td>2021-08-23</td>\n",
       "      <td>0</td>\n",
       "      <td>1</td>\n",
       "      <td>0</td>\n",
       "    </tr>\n",
       "    <tr>\n",
       "      <th>...</th>\n",
       "      <td>...</td>\n",
       "      <td>...</td>\n",
       "      <td>...</td>\n",
       "      <td>...</td>\n",
       "      <td>...</td>\n",
       "      <td>...</td>\n",
       "      <td>...</td>\n",
       "      <td>...</td>\n",
       "      <td>...</td>\n",
       "      <td>...</td>\n",
       "    </tr>\n",
       "    <tr>\n",
       "      <th>1020</th>\n",
       "      <td>1</td>\n",
       "      <td>Michele A.</td>\n",
       "      <td>4</td>\n",
       "      <td>Had dinner at Pizza &amp; Pasta and it was yummy! ...</td>\n",
       "      <td>67</td>\n",
       "      <td>3</td>\n",
       "      <td>2017-11-21</td>\n",
       "      <td>0</td>\n",
       "      <td>5</td>\n",
       "      <td>0</td>\n",
       "    </tr>\n",
       "    <tr>\n",
       "      <th>1021</th>\n",
       "      <td>0</td>\n",
       "      <td>R B.</td>\n",
       "      <td>2</td>\n",
       "      <td>We ate at the Italian pasta/pizza restaurant. ...</td>\n",
       "      <td>4</td>\n",
       "      <td>0</td>\n",
       "      <td>2016-09-18</td>\n",
       "      <td>0</td>\n",
       "      <td>3</td>\n",
       "      <td>0</td>\n",
       "    </tr>\n",
       "    <tr>\n",
       "      <th>1022</th>\n",
       "      <td>197</td>\n",
       "      <td>Brittney P.</td>\n",
       "      <td>2</td>\n",
       "      <td>Walking around near closing in the Gelato sect...</td>\n",
       "      <td>1</td>\n",
       "      <td>0</td>\n",
       "      <td>2016-08-19</td>\n",
       "      <td>0</td>\n",
       "      <td>0</td>\n",
       "      <td>0</td>\n",
       "    </tr>\n",
       "    <tr>\n",
       "      <th>1023</th>\n",
       "      <td>2</td>\n",
       "      <td>Stanley S.</td>\n",
       "      <td>4</td>\n",
       "      <td>The concept s very cool and the food very good...</td>\n",
       "      <td>391</td>\n",
       "      <td>0</td>\n",
       "      <td>2017-10-27</td>\n",
       "      <td>0</td>\n",
       "      <td>1</td>\n",
       "      <td>0</td>\n",
       "    </tr>\n",
       "    <tr>\n",
       "      <th>1024</th>\n",
       "      <td>0</td>\n",
       "      <td>K K.</td>\n",
       "      <td>3</td>\n",
       "      <td>I have been to Eataly maybe 5 or 6 times now (...</td>\n",
       "      <td>4</td>\n",
       "      <td>0</td>\n",
       "      <td>2016-09-16</td>\n",
       "      <td>0</td>\n",
       "      <td>1</td>\n",
       "      <td>0</td>\n",
       "    </tr>\n",
       "  </tbody>\n",
       "</table>\n",
       "<p>1025 rows × 10 columns</p>\n",
       "</div>"
      ],
      "text/plain": [
       "      Friends         Name  Rating  \\\n",
       "0          73      Jill L.       5   \n",
       "1        3210   Tiffany D.       3   \n",
       "2        2013   Giacomo C.       3   \n",
       "3         131    Warren D.       5   \n",
       "4         304     Jamie W.       4   \n",
       "...       ...          ...     ...   \n",
       "1020        1   Michele A.       4   \n",
       "1021        0         R B.       2   \n",
       "1022      197  Brittney P.       2   \n",
       "1023        2   Stanley S.       4   \n",
       "1024        0         K K.       3   \n",
       "\n",
       "                                                 Review  UserReviews Photos  \\\n",
       "0     I had never been to an Eataly before so this w...          156    222   \n",
       "1     Smaller than the one at Flatiron seemingly or ...         2630   9554   \n",
       "2     I've always visited the other location by the ...         1383   3762   \n",
       "3     I've walked through the Eataly on the Las Vega...          588    476   \n",
       "4     This is such a fun place to just walk around a...          517    830   \n",
       "...                                                 ...          ...    ...   \n",
       "1020  Had dinner at Pizza & Pasta and it was yummy! ...           67      3   \n",
       "1021  We ate at the Italian pasta/pizza restaurant. ...            4      0   \n",
       "1022  Walking around near closing in the Gelato sect...            1      0   \n",
       "1023  The concept s very cool and the food very good...          391      0   \n",
       "1024  I have been to Eataly maybe 5 or 6 times now (...            4      0   \n",
       "\n",
       "           Date  Food Occurs  Positive Occurs  Negative Occurs  \n",
       "0    2021-10-13            0                1                0  \n",
       "1    2021-10-27            0                1                0  \n",
       "2    2021-10-01            0                1                1  \n",
       "3    2021-09-28            0                2                0  \n",
       "4    2021-08-23            0                1                0  \n",
       "...         ...          ...              ...              ...  \n",
       "1020 2017-11-21            0                5                0  \n",
       "1021 2016-09-18            0                3                0  \n",
       "1022 2016-08-19            0                0                0  \n",
       "1023 2017-10-27            0                1                0  \n",
       "1024 2016-09-16            0                1                0  \n",
       "\n",
       "[1025 rows x 10 columns]"
      ]
     },
     "execution_count": 30,
     "metadata": {},
     "output_type": "execute_result"
    }
   ],
   "source": [
    "thaiVilla"
   ]
  },
  {
   "cell_type": "markdown",
   "metadata": {},
   "source": [
    "# Correlation Heatmap"
   ]
  },
  {
   "cell_type": "code",
   "execution_count": 31,
   "metadata": {},
   "outputs": [
    {
     "data": {
      "text/plain": [
       "<matplotlib.axes._subplots.AxesSubplot at 0x7ffb1b735110>"
      ]
     },
     "execution_count": 31,
     "metadata": {},
     "output_type": "execute_result"
    },
    {
     "data": {
      "image/png": "[encoded data removed]",
      "text/plain": [
       "<Figure size 720x720 with 2 Axes>"
      ]
     },
     "metadata": {
      "needs_background": "light"
     },
     "output_type": "display_data"
    }
   ],
   "source": [
    "correlation = thaiVilla[['Friends', 'Rating', 'UserReviews', 'Photos', 'Food Occurs', 'Positive Occurs', 'Negative Occurs']]\n",
    "\n",
    "corr = correlation.corr(method='kendall')\n",
    "plt.figure(figsize=(10,10))\n",
    "sns.heatmap(corr, annot=True, cmap=\"RdYlBu\")"
   ]
  },
  {
   "cell_type": "markdown",
   "metadata": {},
   "source": [
    "# Positive Sentiment Analysis"
   ]
  },
  {
   "cell_type": "code",
   "execution_count": 32,
   "metadata": {},
   "outputs": [
    {
     "data": {
      "image/png": "[encoded data removed]",
      "text/plain": [
       "<Figure size 432x288 with 1 Axes>"
      ]
     },
     "metadata": {
      "needs_background": "light"
     },
     "output_type": "display_data"
    }
   ],
   "source": [
    "posOcc = thaiVilla['Positive Occurs']\n",
    "posOcc.hist(bins = 10)\n",
    "plt.xlabel('Number of Positive Occurences')\n",
    "plt.ylabel('Frequency')\n",
    "# plt.xlim(xmin=0, xmax = 400)\n",
    "plt.title('Distribution of Positive Occurences')\n",
    "#plt.figure(figsize=(20,20))\n",
    "plt.show()"
   ]
  },
  {
   "cell_type": "markdown",
   "metadata": {},
   "source": [
    "# Negative Sentiment Analysis"
   ]
  },
  {
   "cell_type": "code",
   "execution_count": 33,
   "metadata": {},
   "outputs": [
    {
     "data": {
      "image/png": "[encoded data removed]",
      "text/plain": [
       "<Figure size 432x288 with 1 Axes>"
      ]
     },
     "metadata": {
      "needs_background": "light"
     },
     "output_type": "display_data"
    }
   ],
   "source": [
    "negOcc = thaiVilla['Negative Occurs']\n",
    "negOcc.hist(bins = 5)\n",
    "plt.xlabel('Number of Negative Occurences')\n",
    "plt.ylabel('Frequency')\n",
    "# plt.xlim(xmin=0, xmax = 400)\n",
    "plt.title('Distribution of Negative Occurences')\n",
    "#plt.figure(figsize=(20,20))\n",
    "plt.show()"
   ]
  },
  {
   "cell_type": "code",
   "execution_count": null,
   "metadata": {},
   "outputs": [],
   "source": []
  },
  {
   "cell_type": "code",
   "execution_count": null,
   "metadata": {},
   "outputs": [],
   "source": []
  }
 ],
 "metadata": {
  "kernelspec": {
   "display_name": "Python 3",
   "language": "python",
   "name": "python3"
  },
  "language_info": {
   "codemirror_mode": {
    "name": "ipython",
    "version": 3
   },
   "file_extension": ".py",
   "mimetype": "text/x-python",
   "name": "python",
   "nbconvert_exporter": "python",
   "pygments_lexer": "ipython3",
   "version": "3.7.6"
  }
 },
 "nbformat": 4,
 "nbformat_minor": 4
}
