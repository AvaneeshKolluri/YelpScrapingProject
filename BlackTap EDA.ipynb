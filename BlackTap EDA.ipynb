{
 "cells": [
  {
   "cell_type": "code",
   "execution_count": 39,
   "metadata": {},
   "outputs": [],
   "source": [
    "import pandas as pd\n",
    "import numpy as np\n",
    "import seaborn as sns\n",
    "import matplotlib.pyplot as plt"
   ]
  },
  {
   "cell_type": "code",
   "execution_count": 40,
   "metadata": {},
   "outputs": [],
   "source": [
    "thaiVilla = pd.read_excel('BlackTapReview.xlsx').drop(columns = ['Unnamed: 0'])\n",
    "thaiVilla['Date'] = pd.to_datetime(thaiVilla['Date'])"
   ]
  },
  {
   "cell_type": "code",
   "execution_count": 41,
   "metadata": {},
   "outputs": [
    {
     "data": {
      "text/html": [
       "<div>\n",
       "<style scoped>\n",
       "    .dataframe tbody tr th:only-of-type {\n",
       "        vertical-align: middle;\n",
       "    }\n",
       "\n",
       "    .dataframe tbody tr th {\n",
       "        vertical-align: top;\n",
       "    }\n",
       "\n",
       "    .dataframe thead th {\n",
       "        text-align: right;\n",
       "    }\n",
       "</style>\n",
       "<table border=\"1\" class=\"dataframe\">\n",
       "  <thead>\n",
       "    <tr style=\"text-align: right;\">\n",
       "      <th></th>\n",
       "      <th>Friends</th>\n",
       "      <th>Name</th>\n",
       "      <th>Rating</th>\n",
       "      <th>Review</th>\n",
       "      <th>UserReviews</th>\n",
       "      <th>Photos</th>\n",
       "      <th>Date</th>\n",
       "    </tr>\n",
       "  </thead>\n",
       "  <tbody>\n",
       "    <tr>\n",
       "      <th>0</th>\n",
       "      <td>31</td>\n",
       "      <td>Christopher W.</td>\n",
       "      <td>4</td>\n",
       "      <td>I gave this lovely place a visit to try out th...</td>\n",
       "      <td>22</td>\n",
       "      <td>65</td>\n",
       "      <td>2021-08-22</td>\n",
       "    </tr>\n",
       "    <tr>\n",
       "      <th>1</th>\n",
       "      <td>304</td>\n",
       "      <td>yiannis p.</td>\n",
       "      <td>1</td>\n",
       "      <td>I like the food, here, &amp; the cashier was very ...</td>\n",
       "      <td>52</td>\n",
       "      <td>51</td>\n",
       "      <td>2021-09-29</td>\n",
       "    </tr>\n",
       "    <tr>\n",
       "      <th>2</th>\n",
       "      <td>14</td>\n",
       "      <td>Ray K.</td>\n",
       "      <td>3</td>\n",
       "      <td>Experienced Black Tap for the first time durin...</td>\n",
       "      <td>48</td>\n",
       "      <td>75</td>\n",
       "      <td>2021-07-30</td>\n",
       "    </tr>\n",
       "    <tr>\n",
       "      <th>3</th>\n",
       "      <td>306</td>\n",
       "      <td>Trendy D.</td>\n",
       "      <td>3</td>\n",
       "      <td>You can't make reservations so expect to wait ...</td>\n",
       "      <td>164</td>\n",
       "      <td>674</td>\n",
       "      <td>2021-07-11</td>\n",
       "    </tr>\n",
       "    <tr>\n",
       "      <th>4</th>\n",
       "      <td>16</td>\n",
       "      <td>Anel M.</td>\n",
       "      <td>4</td>\n",
       "      <td>I came here with my daughter just for the shak...</td>\n",
       "      <td>44</td>\n",
       "      <td>117</td>\n",
       "      <td>2021-07-17</td>\n",
       "    </tr>\n",
       "    <tr>\n",
       "      <th>...</th>\n",
       "      <td>...</td>\n",
       "      <td>...</td>\n",
       "      <td>...</td>\n",
       "      <td>...</td>\n",
       "      <td>...</td>\n",
       "      <td>...</td>\n",
       "      <td>...</td>\n",
       "    </tr>\n",
       "    <tr>\n",
       "      <th>1243</th>\n",
       "      <td>0</td>\n",
       "      <td>Stephen D.</td>\n",
       "      <td>1</td>\n",
       "      <td>what's the deal with the daunting lines at thi...</td>\n",
       "      <td>2</td>\n",
       "      <td>0</td>\n",
       "      <td>2016-09-14</td>\n",
       "    </tr>\n",
       "    <tr>\n",
       "      <th>1244</th>\n",
       "      <td>1</td>\n",
       "      <td>D Y.</td>\n",
       "      <td>2</td>\n",
       "      <td>Several friends and I got take out on Saturday...</td>\n",
       "      <td>22</td>\n",
       "      <td>0</td>\n",
       "      <td>2016-06-27</td>\n",
       "    </tr>\n",
       "    <tr>\n",
       "      <th>1245</th>\n",
       "      <td>181</td>\n",
       "      <td>Monica M.</td>\n",
       "      <td>1</td>\n",
       "      <td>I totally wish that I could rate lower than a ...</td>\n",
       "      <td>3</td>\n",
       "      <td>0</td>\n",
       "      <td>2016-08-18</td>\n",
       "    </tr>\n",
       "    <tr>\n",
       "      <th>1246</th>\n",
       "      <td>1</td>\n",
       "      <td>miranda v.</td>\n",
       "      <td>2</td>\n",
       "      <td>althought the burger was great....2 hours wait...</td>\n",
       "      <td>19</td>\n",
       "      <td>6</td>\n",
       "      <td>2016-04-14</td>\n",
       "    </tr>\n",
       "    <tr>\n",
       "      <th>1247</th>\n",
       "      <td>0</td>\n",
       "      <td>MaryAnn D.</td>\n",
       "      <td>5</td>\n",
       "      <td>I ate at Black Tap over the weekend for a quic...</td>\n",
       "      <td>1</td>\n",
       "      <td>0</td>\n",
       "      <td>2015-04-13</td>\n",
       "    </tr>\n",
       "  </tbody>\n",
       "</table>\n",
       "<p>1248 rows × 7 columns</p>\n",
       "</div>"
      ],
      "text/plain": [
       "      Friends            Name  Rating  \\\n",
       "0          31  Christopher W.       4   \n",
       "1         304      yiannis p.       1   \n",
       "2          14          Ray K.       3   \n",
       "3         306       Trendy D.       3   \n",
       "4          16         Anel M.       4   \n",
       "...       ...             ...     ...   \n",
       "1243        0      Stephen D.       1   \n",
       "1244        1            D Y.       2   \n",
       "1245      181       Monica M.       1   \n",
       "1246        1      miranda v.       2   \n",
       "1247        0      MaryAnn D.       5   \n",
       "\n",
       "                                                 Review  UserReviews Photos  \\\n",
       "0     I gave this lovely place a visit to try out th...           22     65   \n",
       "1     I like the food, here, & the cashier was very ...           52     51   \n",
       "2     Experienced Black Tap for the first time durin...           48     75   \n",
       "3     You can't make reservations so expect to wait ...          164    674   \n",
       "4     I came here with my daughter just for the shak...           44    117   \n",
       "...                                                 ...          ...    ...   \n",
       "1243  what's the deal with the daunting lines at thi...            2      0   \n",
       "1244  Several friends and I got take out on Saturday...           22      0   \n",
       "1245  I totally wish that I could rate lower than a ...            3      0   \n",
       "1246  althought the burger was great....2 hours wait...           19      6   \n",
       "1247  I ate at Black Tap over the weekend for a quic...            1      0   \n",
       "\n",
       "           Date  \n",
       "0    2021-08-22  \n",
       "1    2021-09-29  \n",
       "2    2021-07-30  \n",
       "3    2021-07-11  \n",
       "4    2021-07-17  \n",
       "...         ...  \n",
       "1243 2016-09-14  \n",
       "1244 2016-06-27  \n",
       "1245 2016-08-18  \n",
       "1246 2016-04-14  \n",
       "1247 2015-04-13  \n",
       "\n",
       "[1248 rows x 7 columns]"
      ]
     },
     "execution_count": 41,
     "metadata": {},
     "output_type": "execute_result"
    }
   ],
   "source": [
    "thaiVilla"
   ]
  },
  {
   "cell_type": "code",
   "execution_count": 42,
   "metadata": {},
   "outputs": [],
   "source": [
    "thaiMenu = {'all american burger',\n",
    "           'texan burger',\n",
    "           'mexico city',\n",
    "           'impossible all american',\n",
    "           'greg norman',\n",
    "           'mulberry street burger',\n",
    "           'wagyu steakhouse burger',\n",
    "           'smokehouse turkey burger',\n",
    "           'black tap burger salad',\n",
    "           'crispy chicken caesar salad',\n",
    "           'korean bbq',\n",
    "           'nashville hot',\n",
    "           'crispy chicken sandwich',\n",
    "           'pesto chicken sandwich',\n",
    "           'idaho fries',\n",
    "           'sweet potato fries',\n",
    "           'queso',\n",
    "           'chips',\n",
    "           'guac',\n",
    "           'brussels sprouts',\n",
    "           'fried chicken tenders',\n",
    "           'teriyaki broccoli',\n",
    "           'fried mozz',\n",
    "           'korean bbq cauliflower',\n",
    "           'caesar salad',\n",
    "           'house salad',\n",
    "           'arugala salad',\n",
    "           'cotton candy',\n",
    "           'cakeshake',\n",
    "           'cookies n cream supreme',\n",
    "           'vegan black n white cakeshake',\n",
    "           'bam bam shake',\n",
    "           'cookie shake',\n",
    "           'strawberry shortcake',\n",
    "           'brooklyn blackout',\n",
    "           'sweet n salty',\n",
    "           'chocolate',\n",
    "           'vanilla',\n",
    "           'coffee',\n",
    "           'black cherry',\n",
    "           'strawberry',\n",
    "           'nutella',\n",
    "           'peanut butter',\n",
    "           'oreo cookies & cream',\n",
    "           'blueberry pie',\n",
    "           'vegan key lime pie',\n",
    "           'cake batter',\n",
    "           'salted dulce de leche',\n",
    "           'one brooklyn blackout & one cakeshake',\n",
    "           'two cakeshakes',\n",
    "           'brooklyn blackout',\n",
    "           'brooklyn lager',\n",
    "           'blone ale',\n",
    "           'blue moon',\n",
    "           'single cut plaintop silver',\n",
    "           'imperial ipa',\n",
    "           'downeast original cider',\n",
    "           'chaser ipa',\n",
    "           'barrier money',\n",
    "           'zero gravity ale',\n",
    "           'pilsner',\n",
    "           'slighty mighty',\n",
    "           'seaquench',\n",
    "            'high life',\n",
    "           'lager',\n",
    "           'blonde ale',\n",
    "           'rose cider',\n",
    "           'wine',\n",
    "           'lemonade',\n",
    "           'margarita',\n",
    "           'sangria',\n",
    "           'black tap mule',\n",
    "           'creamsicle',\n",
    "           'saratoga still',\n",
    "           'topo chico',\n",
    "           'soda'}"
   ]
  },
  {
   "cell_type": "markdown",
   "metadata": {},
   "source": [
    "# Distribution of the Friends Feature"
   ]
  },
  {
   "cell_type": "code",
   "execution_count": 43,
   "metadata": {},
   "outputs": [],
   "source": [
    "friends = thaiVilla['Friends']"
   ]
  },
  {
   "cell_type": "code",
   "execution_count": 44,
   "metadata": {},
   "outputs": [
    {
     "data": {
      "image/png": "[encoded data removed]",
      "text/plain": [
       "<Figure size 432x288 with 1 Axes>"
      ]
     },
     "metadata": {
      "needs_background": "light"
     },
     "output_type": "display_data"
    }
   ],
   "source": [
    "friends.hist(bins = 100)\n",
    "plt.xlabel('Number of Friends')\n",
    "plt.ylabel('Frequency')\n",
    "plt.xlim(xmin=0, xmax = 500)\n",
    "plt.title('Distribution of Friends')\n",
    "#plt.figure(figsize=(20,20))\n",
    "plt.show()"
   ]
  },
  {
   "cell_type": "code",
   "execution_count": 45,
   "metadata": {},
   "outputs": [
    {
     "data": {
      "text/plain": [
       "count    1248.000000\n",
       "mean      113.547276\n",
       "std       231.381266\n",
       "min         0.000000\n",
       "25%         1.000000\n",
       "50%        24.000000\n",
       "75%       147.000000\n",
       "max      5000.000000\n",
       "Name: Friends, dtype: float64"
      ]
     },
     "execution_count": 45,
     "metadata": {},
     "output_type": "execute_result"
    }
   ],
   "source": [
    "friends.describe()"
   ]
  },
  {
   "cell_type": "markdown",
   "metadata": {},
   "source": [
    "# Distribution of the Ratings Feature"
   ]
  },
  {
   "cell_type": "code",
   "execution_count": 46,
   "metadata": {},
   "outputs": [
    {
     "data": {
      "image/png": "[encoded data removed]",
      "text/plain": [
       "<Figure size 432x288 with 1 Axes>"
      ]
     },
     "metadata": {
      "needs_background": "light"
     },
     "output_type": "display_data"
    }
   ],
   "source": [
    "Ratings = thaiVilla['Rating']\n",
    "Ratings.hist(bins = 5)\n",
    "plt.xlabel('Rating')\n",
    "plt.ylabel('Frequency')\n",
    "#plt.xlim(xmin=0, xmax = 150)\n",
    "plt.title('Distribution of Ratings')\n",
    "#plt.figure(figsize=(20,20))\n",
    "plt.show()"
   ]
  },
  {
   "cell_type": "code",
   "execution_count": 47,
   "metadata": {},
   "outputs": [
    {
     "data": {
      "text/plain": [
       "count    1248.000000\n",
       "mean        3.722756\n",
       "std         1.311865\n",
       "min         1.000000\n",
       "25%         3.000000\n",
       "50%         4.000000\n",
       "75%         5.000000\n",
       "max         5.000000\n",
       "Name: Rating, dtype: float64"
      ]
     },
     "execution_count": 47,
     "metadata": {},
     "output_type": "execute_result"
    }
   ],
   "source": [
    "Ratings.describe()"
   ]
  },
  {
   "cell_type": "markdown",
   "metadata": {},
   "source": [
    "# Distribution of the UserReviews Feature"
   ]
  },
  {
   "cell_type": "code",
   "execution_count": 48,
   "metadata": {},
   "outputs": [
    {
     "data": {
      "image/png": "[encoded data removed]",
      "text/plain": [
       "<Figure size 432x288 with 1 Axes>"
      ]
     },
     "metadata": {
      "needs_background": "light"
     },
     "output_type": "display_data"
    }
   ],
   "source": [
    "UserReviews = thaiVilla['UserReviews']\n",
    "UserReviews.hist(bins = 50)\n",
    "plt.xlabel('Rating')\n",
    "plt.ylabel('Frequency')\n",
    "plt.xlim(xmin=0, xmax = 2000)\n",
    "plt.title('Distribution of UserReviews')\n",
    "#plt.figure(figsize=(20,20))\n",
    "plt.show()"
   ]
  },
  {
   "cell_type": "code",
   "execution_count": 49,
   "metadata": {},
   "outputs": [
    {
     "data": {
      "text/plain": [
       "count    1248.000000\n",
       "mean      100.463942\n",
       "std       235.688172\n",
       "min         1.000000\n",
       "25%         9.000000\n",
       "50%        30.000000\n",
       "75%        96.000000\n",
       "max      2374.000000\n",
       "Name: UserReviews, dtype: float64"
      ]
     },
     "execution_count": 49,
     "metadata": {},
     "output_type": "execute_result"
    }
   ],
   "source": [
    "UserReviews.describe()"
   ]
  },
  {
   "cell_type": "markdown",
   "metadata": {},
   "source": [
    "# Distribution of the Photos Feature"
   ]
  },
  {
   "cell_type": "code",
   "execution_count": 50,
   "metadata": {},
   "outputs": [
    {
     "data": {
      "image/png": "[encoded data removed]",
      "text/plain": [
       "<Figure size 432x288 with 1 Axes>"
      ]
     },
     "metadata": {
      "needs_background": "light"
     },
     "output_type": "display_data"
    }
   ],
   "source": [
    "Photos = thaiVilla['Photos']\n",
    "Photos.hist(bins = 100)\n",
    "plt.xlabel('Number of Photos')\n",
    "plt.ylabel('Frequency')\n",
    "plt.xlim(xmin=0, xmax = 400)\n",
    "plt.title('Distribution of Photos')\n",
    "#plt.figure(figsize=(20,20))\n",
    "plt.show()"
   ]
  },
  {
   "cell_type": "code",
   "execution_count": 51,
   "metadata": {},
   "outputs": [
    {
     "data": {
      "text/plain": [
       "count     1248\n",
       "unique     340\n",
       "top          0\n",
       "freq       266\n",
       "Name: Photos, dtype: object"
      ]
     },
     "execution_count": 51,
     "metadata": {},
     "output_type": "execute_result"
    }
   ],
   "source": [
    "thaiVilla['Photos'].describe()"
   ]
  },
  {
   "cell_type": "markdown",
   "metadata": {},
   "source": [
    "# Time Series of Ratings vs Time"
   ]
  },
  {
   "cell_type": "code",
   "execution_count": 52,
   "metadata": {},
   "outputs": [],
   "source": [
    "import datetime\n",
    "import random\n",
    "import matplotlib.pyplot as plt"
   ]
  },
  {
   "cell_type": "code",
   "execution_count": 53,
   "metadata": {},
   "outputs": [],
   "source": [
    "sortedDf = thaiVilla.sort_values(['Date'], ascending=True)"
   ]
  },
  {
   "cell_type": "code",
   "execution_count": 54,
   "metadata": {},
   "outputs": [],
   "source": [
    "sortedDf = pd.DataFrame(sortedDf.groupby(\"Date\")[\"Rating\"].mean())"
   ]
  },
  {
   "cell_type": "code",
   "execution_count": 55,
   "metadata": {},
   "outputs": [],
   "source": [
    "x = sortedDf.index\n",
    "y = sortedDf['Rating']"
   ]
  },
  {
   "cell_type": "code",
   "execution_count": 56,
   "metadata": {},
   "outputs": [
    {
     "data": {
      "image/png": "[encoded data removed]",
      "text/plain": [
       "<Figure size 432x288 with 1 Axes>"
      ]
     },
     "metadata": {
      "needs_background": "light"
     },
     "output_type": "display_data"
    },
    {
     "data": {
      "text/plain": [
       "<Figure size 3600x1080 with 0 Axes>"
      ]
     },
     "metadata": {},
     "output_type": "display_data"
    }
   ],
   "source": [
    "plt.plot(x,y)\n",
    "plt.title('Daily Rating Aggregate')\n",
    "plt.ylabel('Rating')\n",
    "plt.xlabel('Day')\n",
    "plt.figure(figsize=(50,15))\n",
    "plt.show()"
   ]
  },
  {
   "cell_type": "code",
   "execution_count": 57,
   "metadata": {},
   "outputs": [],
   "source": [
    "sortedDf = thaiVilla.sort_values(['Date'], ascending=True)"
   ]
  },
  {
   "cell_type": "code",
   "execution_count": 58,
   "metadata": {},
   "outputs": [],
   "source": [
    "monthlyRating = pd.DataFrame(sortedDf.groupby([sortedDf['Date'].dt.year.rename('year'), sortedDf['Date'].dt.month_name().rename('month')])['Rating'].mean().reset_index())"
   ]
  },
  {
   "cell_type": "code",
   "execution_count": 59,
   "metadata": {},
   "outputs": [],
   "source": [
    "monthlyRating['my'] = monthlyRating['year'].astype(str) + ' ' + monthlyRating['month'].astype(str)"
   ]
  },
  {
   "cell_type": "code",
   "execution_count": 60,
   "metadata": {},
   "outputs": [
    {
     "data": {
      "text/html": [
       "<div>\n",
       "<style scoped>\n",
       "    .dataframe tbody tr th:only-of-type {\n",
       "        vertical-align: middle;\n",
       "    }\n",
       "\n",
       "    .dataframe tbody tr th {\n",
       "        vertical-align: top;\n",
       "    }\n",
       "\n",
       "    .dataframe thead th {\n",
       "        text-align: right;\n",
       "    }\n",
       "</style>\n",
       "<table border=\"1\" class=\"dataframe\">\n",
       "  <thead>\n",
       "    <tr style=\"text-align: right;\">\n",
       "      <th></th>\n",
       "      <th>year</th>\n",
       "      <th>month</th>\n",
       "      <th>Rating</th>\n",
       "      <th>my</th>\n",
       "    </tr>\n",
       "  </thead>\n",
       "  <tbody>\n",
       "    <tr>\n",
       "      <th>0</th>\n",
       "      <td>2015</td>\n",
       "      <td>April</td>\n",
       "      <td>4.642857</td>\n",
       "      <td>2015 April</td>\n",
       "    </tr>\n",
       "    <tr>\n",
       "      <th>1</th>\n",
       "      <td>2015</td>\n",
       "      <td>August</td>\n",
       "      <td>4.714286</td>\n",
       "      <td>2015 August</td>\n",
       "    </tr>\n",
       "    <tr>\n",
       "      <th>2</th>\n",
       "      <td>2015</td>\n",
       "      <td>December</td>\n",
       "      <td>4.111111</td>\n",
       "      <td>2015 December</td>\n",
       "    </tr>\n",
       "    <tr>\n",
       "      <th>3</th>\n",
       "      <td>2015</td>\n",
       "      <td>July</td>\n",
       "      <td>4.444444</td>\n",
       "      <td>2015 July</td>\n",
       "    </tr>\n",
       "    <tr>\n",
       "      <th>4</th>\n",
       "      <td>2015</td>\n",
       "      <td>June</td>\n",
       "      <td>3.500000</td>\n",
       "      <td>2015 June</td>\n",
       "    </tr>\n",
       "    <tr>\n",
       "      <th>...</th>\n",
       "      <td>...</td>\n",
       "      <td>...</td>\n",
       "      <td>...</td>\n",
       "      <td>...</td>\n",
       "    </tr>\n",
       "    <tr>\n",
       "      <th>74</th>\n",
       "      <td>2021</td>\n",
       "      <td>June</td>\n",
       "      <td>2.857143</td>\n",
       "      <td>2021 June</td>\n",
       "    </tr>\n",
       "    <tr>\n",
       "      <th>75</th>\n",
       "      <td>2021</td>\n",
       "      <td>March</td>\n",
       "      <td>3.800000</td>\n",
       "      <td>2021 March</td>\n",
       "    </tr>\n",
       "    <tr>\n",
       "      <th>76</th>\n",
       "      <td>2021</td>\n",
       "      <td>May</td>\n",
       "      <td>3.800000</td>\n",
       "      <td>2021 May</td>\n",
       "    </tr>\n",
       "    <tr>\n",
       "      <th>77</th>\n",
       "      <td>2021</td>\n",
       "      <td>October</td>\n",
       "      <td>3.666667</td>\n",
       "      <td>2021 October</td>\n",
       "    </tr>\n",
       "    <tr>\n",
       "      <th>78</th>\n",
       "      <td>2021</td>\n",
       "      <td>September</td>\n",
       "      <td>3.333333</td>\n",
       "      <td>2021 September</td>\n",
       "    </tr>\n",
       "  </tbody>\n",
       "</table>\n",
       "<p>79 rows × 4 columns</p>\n",
       "</div>"
      ],
      "text/plain": [
       "    year      month    Rating              my\n",
       "0   2015      April  4.642857      2015 April\n",
       "1   2015     August  4.714286     2015 August\n",
       "2   2015   December  4.111111   2015 December\n",
       "3   2015       July  4.444444       2015 July\n",
       "4   2015       June  3.500000       2015 June\n",
       "..   ...        ...       ...             ...\n",
       "74  2021       June  2.857143       2021 June\n",
       "75  2021      March  3.800000      2021 March\n",
       "76  2021        May  3.800000        2021 May\n",
       "77  2021    October  3.666667    2021 October\n",
       "78  2021  September  3.333333  2021 September\n",
       "\n",
       "[79 rows x 4 columns]"
      ]
     },
     "execution_count": 60,
     "metadata": {},
     "output_type": "execute_result"
    }
   ],
   "source": [
    "monthlyRating"
   ]
  },
  {
   "cell_type": "code",
   "execution_count": 61,
   "metadata": {},
   "outputs": [],
   "source": [
    "x = monthlyRating['my']\n",
    "y = monthlyRating['Rating']"
   ]
  },
  {
   "cell_type": "code",
   "execution_count": 62,
   "metadata": {},
   "outputs": [
    {
     "data": {
      "image/png": "[encoded data removed]",
      "text/plain": [
       "<Figure size 432x288 with 1 Axes>"
      ]
     },
     "metadata": {
      "needs_background": "light"
     },
     "output_type": "display_data"
    },
    {
     "data": {
      "text/plain": [
       "<Figure size 3600x1080 with 0 Axes>"
      ]
     },
     "metadata": {},
     "output_type": "display_data"
    }
   ],
   "source": [
    "plt.plot(x,y)\n",
    "plt.title('Monthly Rating Aggregate')\n",
    "plt.ylabel('Rating')\n",
    "plt.xlabel('Month and Year')\n",
    "plt.figure(figsize=(50,15))\n",
    "plt.show()"
   ]
  },
  {
   "cell_type": "markdown",
   "metadata": {},
   "source": [
    "# Food Occurences in Menu"
   ]
  },
  {
   "cell_type": "code",
   "execution_count": 63,
   "metadata": {},
   "outputs": [],
   "source": [
    "lst = []\n",
    "for i, row in thaiVilla.iterrows():\n",
    "    count = 0\n",
    "    s = row.Review.lower().replace(' ', '')\n",
    "    for i in thaiMenu:\n",
    "        i = i.lower()\n",
    "        if i.replace(' ', '') in s:\n",
    "            count += 1\n",
    "    lst.append(count)\n",
    "    \n",
    "#     print(i, row)\n",
    "#     count = 0\n",
    "#     s = row.Review.lower()\n",
    "#     s = s.plit()\n",
    "#     seven = s[:7]\n",
    "#     six = s[:6]\n",
    "#     five = s[:5]\n",
    "#     four = s[:4]\n",
    "#     three = s[:3]\n",
    "#     two = s[:2]\n",
    "#     for j in s:\n",
    "#         if j in thaiMenu:\n",
    "#             count += 1\n",
    "#     for j in s:\n",
    "#         if seven in s or sixe.....:\n",
    "#             count += 1\n",
    "#         seven = seven[1:] + [j]\n",
    "#         ...\n",
    "#     lst.append(count)\n",
    "#     break"
   ]
  },
  {
   "cell_type": "code",
   "execution_count": 64,
   "metadata": {},
   "outputs": [],
   "source": [
    "thaiVilla['Food Occurs'] = lst"
   ]
  },
  {
   "cell_type": "markdown",
   "metadata": {},
   "source": [
    "# Catching Sentiment in Reviews"
   ]
  },
  {
   "cell_type": "code",
   "execution_count": 65,
   "metadata": {},
   "outputs": [],
   "source": [
    "positive = {'best', 'amazing', 'love', 'good', 'perfect', 'fantastic', 'beautiful', 'yummy', 'delicious'}\n",
    "negative = {'horrible', 'bad', 'gross', 'hate', 'disgusting', 'dread', 'terrible'}"
   ]
  },
  {
   "cell_type": "code",
   "execution_count": 66,
   "metadata": {},
   "outputs": [],
   "source": [
    "plst = []\n",
    "nlst = []\n",
    "for i, row in thaiVilla.iterrows():\n",
    "    gcount = 0\n",
    "    ncount = 0\n",
    "    s = row.Review.lower().replace(' ', '')\n",
    "    for i in positive:\n",
    "        if i in s:\n",
    "            gcount += 1\n",
    "    for i in negative:\n",
    "        if i in s:\n",
    "            ncount += 1     \n",
    "    plst.append(gcount)\n",
    "    nlst.append(ncount)"
   ]
  },
  {
   "cell_type": "code",
   "execution_count": 67,
   "metadata": {},
   "outputs": [],
   "source": [
    "thaiVilla['Positive Occurs'] = plst\n",
    "thaiVilla['Negative Occurs'] = nlst"
   ]
  },
  {
   "cell_type": "code",
   "execution_count": 68,
   "metadata": {},
   "outputs": [
    {
     "data": {
      "text/html": [
       "<div>\n",
       "<style scoped>\n",
       "    .dataframe tbody tr th:only-of-type {\n",
       "        vertical-align: middle;\n",
       "    }\n",
       "\n",
       "    .dataframe tbody tr th {\n",
       "        vertical-align: top;\n",
       "    }\n",
       "\n",
       "    .dataframe thead th {\n",
       "        text-align: right;\n",
       "    }\n",
       "</style>\n",
       "<table border=\"1\" class=\"dataframe\">\n",
       "  <thead>\n",
       "    <tr style=\"text-align: right;\">\n",
       "      <th></th>\n",
       "      <th>Friends</th>\n",
       "      <th>Name</th>\n",
       "      <th>Rating</th>\n",
       "      <th>Review</th>\n",
       "      <th>UserReviews</th>\n",
       "      <th>Photos</th>\n",
       "      <th>Date</th>\n",
       "      <th>Food Occurs</th>\n",
       "      <th>Positive Occurs</th>\n",
       "      <th>Negative Occurs</th>\n",
       "    </tr>\n",
       "  </thead>\n",
       "  <tbody>\n",
       "    <tr>\n",
       "      <th>0</th>\n",
       "      <td>31</td>\n",
       "      <td>Christopher W.</td>\n",
       "      <td>4</td>\n",
       "      <td>I gave this lovely place a visit to try out th...</td>\n",
       "      <td>22</td>\n",
       "      <td>65</td>\n",
       "      <td>2021-08-22</td>\n",
       "      <td>2</td>\n",
       "      <td>1</td>\n",
       "      <td>0</td>\n",
       "    </tr>\n",
       "    <tr>\n",
       "      <th>1</th>\n",
       "      <td>304</td>\n",
       "      <td>yiannis p.</td>\n",
       "      <td>1</td>\n",
       "      <td>I like the food, here, &amp; the cashier was very ...</td>\n",
       "      <td>52</td>\n",
       "      <td>51</td>\n",
       "      <td>2021-09-29</td>\n",
       "      <td>0</td>\n",
       "      <td>0</td>\n",
       "      <td>0</td>\n",
       "    </tr>\n",
       "    <tr>\n",
       "      <th>2</th>\n",
       "      <td>14</td>\n",
       "      <td>Ray K.</td>\n",
       "      <td>3</td>\n",
       "      <td>Experienced Black Tap for the first time durin...</td>\n",
       "      <td>48</td>\n",
       "      <td>75</td>\n",
       "      <td>2021-07-30</td>\n",
       "      <td>0</td>\n",
       "      <td>2</td>\n",
       "      <td>1</td>\n",
       "    </tr>\n",
       "    <tr>\n",
       "      <th>3</th>\n",
       "      <td>306</td>\n",
       "      <td>Trendy D.</td>\n",
       "      <td>3</td>\n",
       "      <td>You can't make reservations so expect to wait ...</td>\n",
       "      <td>164</td>\n",
       "      <td>674</td>\n",
       "      <td>2021-07-11</td>\n",
       "      <td>0</td>\n",
       "      <td>1</td>\n",
       "      <td>2</td>\n",
       "    </tr>\n",
       "    <tr>\n",
       "      <th>4</th>\n",
       "      <td>16</td>\n",
       "      <td>Anel M.</td>\n",
       "      <td>4</td>\n",
       "      <td>I came here with my daughter just for the shak...</td>\n",
       "      <td>44</td>\n",
       "      <td>117</td>\n",
       "      <td>2021-07-17</td>\n",
       "      <td>0</td>\n",
       "      <td>0</td>\n",
       "      <td>0</td>\n",
       "    </tr>\n",
       "    <tr>\n",
       "      <th>...</th>\n",
       "      <td>...</td>\n",
       "      <td>...</td>\n",
       "      <td>...</td>\n",
       "      <td>...</td>\n",
       "      <td>...</td>\n",
       "      <td>...</td>\n",
       "      <td>...</td>\n",
       "      <td>...</td>\n",
       "      <td>...</td>\n",
       "      <td>...</td>\n",
       "    </tr>\n",
       "    <tr>\n",
       "      <th>1243</th>\n",
       "      <td>0</td>\n",
       "      <td>Stephen D.</td>\n",
       "      <td>1</td>\n",
       "      <td>what's the deal with the daunting lines at thi...</td>\n",
       "      <td>2</td>\n",
       "      <td>0</td>\n",
       "      <td>2016-09-14</td>\n",
       "      <td>0</td>\n",
       "      <td>0</td>\n",
       "      <td>0</td>\n",
       "    </tr>\n",
       "    <tr>\n",
       "      <th>1244</th>\n",
       "      <td>1</td>\n",
       "      <td>D Y.</td>\n",
       "      <td>2</td>\n",
       "      <td>Several friends and I got take out on Saturday...</td>\n",
       "      <td>22</td>\n",
       "      <td>0</td>\n",
       "      <td>2016-06-27</td>\n",
       "      <td>0</td>\n",
       "      <td>1</td>\n",
       "      <td>0</td>\n",
       "    </tr>\n",
       "    <tr>\n",
       "      <th>1245</th>\n",
       "      <td>181</td>\n",
       "      <td>Monica M.</td>\n",
       "      <td>1</td>\n",
       "      <td>I totally wish that I could rate lower than a ...</td>\n",
       "      <td>3</td>\n",
       "      <td>0</td>\n",
       "      <td>2016-08-18</td>\n",
       "      <td>0</td>\n",
       "      <td>1</td>\n",
       "      <td>0</td>\n",
       "    </tr>\n",
       "    <tr>\n",
       "      <th>1246</th>\n",
       "      <td>1</td>\n",
       "      <td>miranda v.</td>\n",
       "      <td>2</td>\n",
       "      <td>althought the burger was great....2 hours wait...</td>\n",
       "      <td>19</td>\n",
       "      <td>6</td>\n",
       "      <td>2016-04-14</td>\n",
       "      <td>0</td>\n",
       "      <td>0</td>\n",
       "      <td>0</td>\n",
       "    </tr>\n",
       "    <tr>\n",
       "      <th>1247</th>\n",
       "      <td>0</td>\n",
       "      <td>MaryAnn D.</td>\n",
       "      <td>5</td>\n",
       "      <td>I ate at Black Tap over the weekend for a quic...</td>\n",
       "      <td>1</td>\n",
       "      <td>0</td>\n",
       "      <td>2015-04-13</td>\n",
       "      <td>0</td>\n",
       "      <td>4</td>\n",
       "      <td>0</td>\n",
       "    </tr>\n",
       "  </tbody>\n",
       "</table>\n",
       "<p>1248 rows × 10 columns</p>\n",
       "</div>"
      ],
      "text/plain": [
       "      Friends            Name  Rating  \\\n",
       "0          31  Christopher W.       4   \n",
       "1         304      yiannis p.       1   \n",
       "2          14          Ray K.       3   \n",
       "3         306       Trendy D.       3   \n",
       "4          16         Anel M.       4   \n",
       "...       ...             ...     ...   \n",
       "1243        0      Stephen D.       1   \n",
       "1244        1            D Y.       2   \n",
       "1245      181       Monica M.       1   \n",
       "1246        1      miranda v.       2   \n",
       "1247        0      MaryAnn D.       5   \n",
       "\n",
       "                                                 Review  UserReviews Photos  \\\n",
       "0     I gave this lovely place a visit to try out th...           22     65   \n",
       "1     I like the food, here, & the cashier was very ...           52     51   \n",
       "2     Experienced Black Tap for the first time durin...           48     75   \n",
       "3     You can't make reservations so expect to wait ...          164    674   \n",
       "4     I came here with my daughter just for the shak...           44    117   \n",
       "...                                                 ...          ...    ...   \n",
       "1243  what's the deal with the daunting lines at thi...            2      0   \n",
       "1244  Several friends and I got take out on Saturday...           22      0   \n",
       "1245  I totally wish that I could rate lower than a ...            3      0   \n",
       "1246  althought the burger was great....2 hours wait...           19      6   \n",
       "1247  I ate at Black Tap over the weekend for a quic...            1      0   \n",
       "\n",
       "           Date  Food Occurs  Positive Occurs  Negative Occurs  \n",
       "0    2021-08-22            2                1                0  \n",
       "1    2021-09-29            0                0                0  \n",
       "2    2021-07-30            0                2                1  \n",
       "3    2021-07-11            0                1                2  \n",
       "4    2021-07-17            0                0                0  \n",
       "...         ...          ...              ...              ...  \n",
       "1243 2016-09-14            0                0                0  \n",
       "1244 2016-06-27            0                1                0  \n",
       "1245 2016-08-18            0                1                0  \n",
       "1246 2016-04-14            0                0                0  \n",
       "1247 2015-04-13            0                4                0  \n",
       "\n",
       "[1248 rows x 10 columns]"
      ]
     },
     "execution_count": 68,
     "metadata": {},
     "output_type": "execute_result"
    }
   ],
   "source": [
    "thaiVilla"
   ]
  },
  {
   "cell_type": "markdown",
   "metadata": {},
   "source": [
    "# Correlation Heatmap"
   ]
  },
  {
   "cell_type": "code",
   "execution_count": 69,
   "metadata": {},
   "outputs": [
    {
     "data": {
      "text/plain": [
       "<matplotlib.axes._subplots.AxesSubplot at 0x7f89eecf2090>"
      ]
     },
     "execution_count": 69,
     "metadata": {},
     "output_type": "execute_result"
    },
    {
     "data": {
      "image/png": "[encoded data removed]",
      "text/plain": [
       "<Figure size 720x720 with 2 Axes>"
      ]
     },
     "metadata": {
      "needs_background": "light"
     },
     "output_type": "display_data"
    }
   ],
   "source": [
    "correlation = thaiVilla[['Friends', 'Rating', 'UserReviews', 'Photos', 'Food Occurs', 'Positive Occurs', 'Negative Occurs']]\n",
    "\n",
    "corr = correlation.corr(method='kendall')\n",
    "plt.figure(figsize=(10,10))\n",
    "sns.heatmap(corr, annot=True, cmap=\"RdYlBu\")"
   ]
  },
  {
   "cell_type": "markdown",
   "metadata": {},
   "source": [
    "# Positive Sentiment Analysis"
   ]
  },
  {
   "cell_type": "code",
   "execution_count": 70,
   "metadata": {},
   "outputs": [
    {
     "data": {
      "image/png": "[encoded data removed]",
      "text/plain": [
       "<Figure size 432x288 with 1 Axes>"
      ]
     },
     "metadata": {
      "needs_background": "light"
     },
     "output_type": "display_data"
    }
   ],
   "source": [
    "posOcc = thaiVilla['Positive Occurs']\n",
    "posOcc.hist(bins = 10)\n",
    "plt.xlabel('Number of Positive Occurences')\n",
    "plt.ylabel('Frequency')\n",
    "# plt.xlim(xmin=0, xmax = 400)\n",
    "plt.title('Distribution of Positive Occurences')\n",
    "#plt.figure(figsize=(20,20))\n",
    "plt.show()"
   ]
  },
  {
   "cell_type": "markdown",
   "metadata": {},
   "source": [
    "# Negative Sentiment Analysis"
   ]
  },
  {
   "cell_type": "code",
   "execution_count": 71,
   "metadata": {},
   "outputs": [
    {
     "data": {
      "image/png": "[encoded data removed]",
      "text/plain": [
       "<Figure size 432x288 with 1 Axes>"
      ]
     },
     "metadata": {
      "needs_background": "light"
     },
     "output_type": "display_data"
    }
   ],
   "source": [
    "negOcc = thaiVilla['Negative Occurs']\n",
    "negOcc.hist(bins = 5)\n",
    "plt.xlabel('Number of Negative Occurences')\n",
    "plt.ylabel('Frequency')\n",
    "# plt.xlim(xmin=0, xmax = 400)\n",
    "plt.title('Distribution of Negative Occurences')\n",
    "#plt.figure(figsize=(20,20))\n",
    "plt.show()"
   ]
  },
  {
   "cell_type": "code",
   "execution_count": null,
   "metadata": {},
   "outputs": [],
   "source": []
  },
  {
   "cell_type": "code",
   "execution_count": null,
   "metadata": {},
   "outputs": [],
   "source": []
  }
 ],
 "metadata": {
  "kernelspec": {
   "display_name": "Python 3",
   "language": "python",
   "name": "python3"
  },
  "language_info": {
   "codemirror_mode": {
    "name": "ipython",
    "version": 3
   },
   "file_extension": ".py",
   "mimetype": "text/x-python",
   "name": "python",
   "nbconvert_exporter": "python",
   "pygments_lexer": "ipython3",
   "version": "3.7.6"
  }
 },
 "nbformat": 4,
 "nbformat_minor": 4
}
