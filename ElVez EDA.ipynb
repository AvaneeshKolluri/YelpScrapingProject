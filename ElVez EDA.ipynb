{
 "cells": [
  {
   "cell_type": "code",
   "execution_count": 34,
   "metadata": {},
   "outputs": [],
   "source": [
    "import pandas as pd\n",
    "import numpy as np\n",
    "import seaborn as sns\n",
    "import matplotlib.pyplot as plt"
   ]
  },
  {
   "cell_type": "code",
   "execution_count": 35,
   "metadata": {},
   "outputs": [],
   "source": [
    "thaiVilla = pd.read_excel('ElVezReview.xlsx').drop(columns = ['Unnamed: 0'])\n",
    "thaiVilla['Date'] = pd.to_datetime(thaiVilla['Date'])"
   ]
  },
  {
   "cell_type": "code",
   "execution_count": 36,
   "metadata": {},
   "outputs": [
    {
     "data": {
      "text/html": [
       "<div>\n",
       "<style scoped>\n",
       "    .dataframe tbody tr th:only-of-type {\n",
       "        vertical-align: middle;\n",
       "    }\n",
       "\n",
       "    .dataframe tbody tr th {\n",
       "        vertical-align: top;\n",
       "    }\n",
       "\n",
       "    .dataframe thead th {\n",
       "        text-align: right;\n",
       "    }\n",
       "</style>\n",
       "<table border=\"1\" class=\"dataframe\">\n",
       "  <thead>\n",
       "    <tr style=\"text-align: right;\">\n",
       "      <th></th>\n",
       "      <th>Friends</th>\n",
       "      <th>Name</th>\n",
       "      <th>Rating</th>\n",
       "      <th>Review</th>\n",
       "      <th>UserReviews</th>\n",
       "      <th>Photos</th>\n",
       "      <th>Date</th>\n",
       "    </tr>\n",
       "  </thead>\n",
       "  <tbody>\n",
       "    <tr>\n",
       "      <th>0</th>\n",
       "      <td>289</td>\n",
       "      <td>Shivina K.</td>\n",
       "      <td>5</td>\n",
       "      <td>We live near this place in FiDi and have been ...</td>\n",
       "      <td>68</td>\n",
       "      <td>111</td>\n",
       "      <td>2021-10-14</td>\n",
       "    </tr>\n",
       "    <tr>\n",
       "      <th>1</th>\n",
       "      <td>14</td>\n",
       "      <td>Joe O.</td>\n",
       "      <td>2</td>\n",
       "      <td>Took us a very long while to get served. Furth...</td>\n",
       "      <td>54</td>\n",
       "      <td>74</td>\n",
       "      <td>2021-10-03</td>\n",
       "    </tr>\n",
       "    <tr>\n",
       "      <th>2</th>\n",
       "      <td>1</td>\n",
       "      <td>Shawn L.</td>\n",
       "      <td>2</td>\n",
       "      <td>Let's start with that a few years ago there we...</td>\n",
       "      <td>78</td>\n",
       "      <td>38</td>\n",
       "      <td>2021-10-02</td>\n",
       "    </tr>\n",
       "    <tr>\n",
       "      <th>3</th>\n",
       "      <td>426</td>\n",
       "      <td>Susan Y.</td>\n",
       "      <td>5</td>\n",
       "      <td>First off, this restaurant is HUGE! I would sa...</td>\n",
       "      <td>39</td>\n",
       "      <td>140</td>\n",
       "      <td>2021-08-24</td>\n",
       "    </tr>\n",
       "    <tr>\n",
       "      <th>4</th>\n",
       "      <td>20</td>\n",
       "      <td>Grace A.</td>\n",
       "      <td>5</td>\n",
       "      <td>Great service, excellent food...can't say enou...</td>\n",
       "      <td>100</td>\n",
       "      <td>180</td>\n",
       "      <td>2021-09-05</td>\n",
       "    </tr>\n",
       "    <tr>\n",
       "      <th>...</th>\n",
       "      <td>...</td>\n",
       "      <td>...</td>\n",
       "      <td>...</td>\n",
       "      <td>...</td>\n",
       "      <td>...</td>\n",
       "      <td>...</td>\n",
       "      <td>...</td>\n",
       "    </tr>\n",
       "    <tr>\n",
       "      <th>699</th>\n",
       "      <td>0</td>\n",
       "      <td>Celia Z.</td>\n",
       "      <td>5</td>\n",
       "      <td>First time for 5 persons of diverse tastes.  G...</td>\n",
       "      <td>7</td>\n",
       "      <td>0</td>\n",
       "      <td>2014-06-26</td>\n",
       "    </tr>\n",
       "    <tr>\n",
       "      <th>700</th>\n",
       "      <td>0</td>\n",
       "      <td>Priya A.</td>\n",
       "      <td>2</td>\n",
       "      <td>I decided to try this place after my friend ra...</td>\n",
       "      <td>28</td>\n",
       "      <td>0</td>\n",
       "      <td>2014-05-29</td>\n",
       "    </tr>\n",
       "    <tr>\n",
       "      <th>701</th>\n",
       "      <td>0</td>\n",
       "      <td>Gino P.</td>\n",
       "      <td>2</td>\n",
       "      <td>Came in on a Saturday afternoon around 3 and s...</td>\n",
       "      <td>7</td>\n",
       "      <td>0</td>\n",
       "      <td>2016-04-22</td>\n",
       "    </tr>\n",
       "    <tr>\n",
       "      <th>702</th>\n",
       "      <td>3</td>\n",
       "      <td>annabelle l.</td>\n",
       "      <td>2</td>\n",
       "      <td>terrible sevice! food was passable. we waited ...</td>\n",
       "      <td>7</td>\n",
       "      <td>2</td>\n",
       "      <td>2015-06-29</td>\n",
       "    </tr>\n",
       "    <tr>\n",
       "      <th>703</th>\n",
       "      <td>4</td>\n",
       "      <td>Moe M.</td>\n",
       "      <td>4</td>\n",
       "      <td>4 of us went here on a Saturday Night.  There ...</td>\n",
       "      <td>89</td>\n",
       "      <td>3</td>\n",
       "      <td>2015-06-14</td>\n",
       "    </tr>\n",
       "  </tbody>\n",
       "</table>\n",
       "<p>704 rows × 7 columns</p>\n",
       "</div>"
      ],
      "text/plain": [
       "     Friends          Name  Rating  \\\n",
       "0        289    Shivina K.       5   \n",
       "1         14        Joe O.       2   \n",
       "2          1      Shawn L.       2   \n",
       "3        426      Susan Y.       5   \n",
       "4         20      Grace A.       5   \n",
       "..       ...           ...     ...   \n",
       "699        0      Celia Z.       5   \n",
       "700        0      Priya A.       2   \n",
       "701        0       Gino P.       2   \n",
       "702        3  annabelle l.       2   \n",
       "703        4        Moe M.       4   \n",
       "\n",
       "                                                Review  UserReviews Photos  \\\n",
       "0    We live near this place in FiDi and have been ...           68    111   \n",
       "1    Took us a very long while to get served. Furth...           54     74   \n",
       "2    Let's start with that a few years ago there we...           78     38   \n",
       "3    First off, this restaurant is HUGE! I would sa...           39    140   \n",
       "4    Great service, excellent food...can't say enou...          100    180   \n",
       "..                                                 ...          ...    ...   \n",
       "699  First time for 5 persons of diverse tastes.  G...            7      0   \n",
       "700  I decided to try this place after my friend ra...           28      0   \n",
       "701  Came in on a Saturday afternoon around 3 and s...            7      0   \n",
       "702  terrible sevice! food was passable. we waited ...            7      2   \n",
       "703  4 of us went here on a Saturday Night.  There ...           89      3   \n",
       "\n",
       "          Date  \n",
       "0   2021-10-14  \n",
       "1   2021-10-03  \n",
       "2   2021-10-02  \n",
       "3   2021-08-24  \n",
       "4   2021-09-05  \n",
       "..         ...  \n",
       "699 2014-06-26  \n",
       "700 2014-05-29  \n",
       "701 2016-04-22  \n",
       "702 2015-06-29  \n",
       "703 2015-06-14  \n",
       "\n",
       "[704 rows x 7 columns]"
      ]
     },
     "execution_count": 36,
     "metadata": {},
     "output_type": "execute_result"
    }
   ],
   "source": [
    "thaiVilla"
   ]
  },
  {
   "cell_type": "code",
   "execution_count": 37,
   "metadata": {},
   "outputs": [],
   "source": [
    "thaiMenu = {'Chips & Salsa',\n",
    " 'Classic Guacamole',\n",
    " 'Tito Santana Guacamole',\n",
    " 'Nacho Mama',\n",
    " 'Macho Nacho',\n",
    " 'Queso Fundido con Carne',\n",
    " 'Queso Fundido con Hongos',\n",
    " 'Tortilla Soup',\n",
    " 'Chopped Salad',\n",
    " 'Kale Salad',\n",
    " \"Tijuana's Original Caesar\",\n",
    " 'Vuelva a la Vida',\n",
    " 'Mezcal Cured Salmon',\n",
    " 'Snapper Aguachile',\n",
    " 'Tuna Tostadas',\n",
    " 'Crab Tostadas',\n",
    " 'Zucchini Blossom & Corn Quesadillas',\n",
    " 'Chicken Quesadillas',\n",
    " 'Huitlacoche Quesadillas',\n",
    " 'Black Bean Tlayuda',\n",
    " 'Milanesa',\n",
    " 'Burger',\n",
    " 'Chicken Enchiladas',\n",
    " 'Black Bean Enchiladas',\n",
    " 'Oxtail Enchiladas',\n",
    " 'Crab Enchiladas',\n",
    " 'Chipotle Chicken Burrito',\n",
    " 'Beef Burrito',\n",
    " 'Achiote Grilled Chicken',\n",
    " 'Grilled Skirt Steak',\n",
    " 'Grilled Shrimp',\n",
    " 'Grilled Lamb Tenderloin & Merguez Sausage',\n",
    " 'Combination of Two',\n",
    " 'Combination of Three',\n",
    " 'Crispy Mahi Mahi Tacos',\n",
    " 'Lamb \"Arabes\" Tacos',\n",
    " 'Carnitas Tacos',\n",
    " 'Chicken Tacos',\n",
    " 'Cauliflower Tacos',\n",
    " 'Tacos Al Pastor',\n",
    " 'Steak Tacos',\n",
    " 'Grilled Fish Tacos',\n",
    " 'Shrimp Tacos',\n",
    " 'Grilled Corn on the Cob',\n",
    " 'Watermelon & Cucumber Salad',\n",
    " 'Green Beans',\n",
    " 'Refried Black Beans',\n",
    " 'Black Beans & Rice',\n",
    " 'Plantains con Queso',\n",
    " 'Functional and analytics cookies',\n",
    " 'Targeting cookies'}"
   ]
  },
  {
   "cell_type": "markdown",
   "metadata": {},
   "source": [
    "# Distribution of the Friends Feature"
   ]
  },
  {
   "cell_type": "code",
   "execution_count": 38,
   "metadata": {},
   "outputs": [],
   "source": [
    "friends = thaiVilla['Friends']"
   ]
  },
  {
   "cell_type": "code",
   "execution_count": 39,
   "metadata": {},
   "outputs": [
    {
     "data": {
      "image/png": "[encoded data removed]",
      "text/plain": [
       "<Figure size 432x288 with 1 Axes>"
      ]
     },
     "metadata": {
      "needs_background": "light"
     },
     "output_type": "display_data"
    }
   ],
   "source": [
    "friends.hist(bins = 100)\n",
    "plt.xlabel('Number of Friends')\n",
    "plt.ylabel('Frequency')\n",
    "plt.xlim(xmin=0, xmax = 500)\n",
    "plt.title('Distribution of Friends')\n",
    "#plt.figure(figsize=(20,20))\n",
    "plt.show()"
   ]
  },
  {
   "cell_type": "code",
   "execution_count": 40,
   "metadata": {},
   "outputs": [
    {
     "data": {
      "text/plain": [
       "count     704.000000\n",
       "mean      160.811080\n",
       "std       410.484569\n",
       "min         0.000000\n",
       "25%         1.000000\n",
       "50%        28.500000\n",
       "75%       175.250000\n",
       "max      5000.000000\n",
       "Name: Friends, dtype: float64"
      ]
     },
     "execution_count": 40,
     "metadata": {},
     "output_type": "execute_result"
    }
   ],
   "source": [
    "friends.describe()"
   ]
  },
  {
   "cell_type": "markdown",
   "metadata": {},
   "source": [
    "# Distribution of the Ratings Feature"
   ]
  },
  {
   "cell_type": "code",
   "execution_count": 41,
   "metadata": {},
   "outputs": [
    {
     "data": {
      "image/png": "[encoded data removed]",
      "text/plain": [
       "<Figure size 432x288 with 1 Axes>"
      ]
     },
     "metadata": {
      "needs_background": "light"
     },
     "output_type": "display_data"
    }
   ],
   "source": [
    "Ratings = thaiVilla['Rating']\n",
    "Ratings.hist(bins = 5)\n",
    "plt.xlabel('Rating')\n",
    "plt.ylabel('Frequency')\n",
    "#plt.xlim(xmin=0, xmax = 150)\n",
    "plt.title('Distribution of Ratings')\n",
    "#plt.figure(figsize=(20,20))\n",
    "plt.show()"
   ]
  },
  {
   "cell_type": "code",
   "execution_count": 42,
   "metadata": {},
   "outputs": [
    {
     "data": {
      "text/plain": [
       "count    704.000000\n",
       "mean       3.589489\n",
       "std        1.222340\n",
       "min        1.000000\n",
       "25%        3.000000\n",
       "50%        4.000000\n",
       "75%        5.000000\n",
       "max        5.000000\n",
       "Name: Rating, dtype: float64"
      ]
     },
     "execution_count": 42,
     "metadata": {},
     "output_type": "execute_result"
    }
   ],
   "source": [
    "Ratings.describe()"
   ]
  },
  {
   "cell_type": "markdown",
   "metadata": {},
   "source": [
    "# Distribution of the UserReviews Feature"
   ]
  },
  {
   "cell_type": "code",
   "execution_count": 43,
   "metadata": {},
   "outputs": [
    {
     "data": {
      "image/png": "[encoded data removed]",
      "text/plain": [
       "<Figure size 432x288 with 1 Axes>"
      ]
     },
     "metadata": {
      "needs_background": "light"
     },
     "output_type": "display_data"
    }
   ],
   "source": [
    "UserReviews = thaiVilla['UserReviews']\n",
    "UserReviews.hist(bins = 50)\n",
    "plt.xlabel('Rating')\n",
    "plt.ylabel('Frequency')\n",
    "plt.xlim(xmin=0, xmax = 2000)\n",
    "plt.title('Distribution of UserReviews')\n",
    "#plt.figure(figsize=(20,20))\n",
    "plt.show()"
   ]
  },
  {
   "cell_type": "code",
   "execution_count": 44,
   "metadata": {},
   "outputs": [
    {
     "data": {
      "text/plain": [
       "count     704.000000\n",
       "mean      165.748580\n",
       "std       397.077192\n",
       "min         1.000000\n",
       "25%        14.000000\n",
       "50%        42.000000\n",
       "75%       156.250000\n",
       "max      5078.000000\n",
       "Name: UserReviews, dtype: float64"
      ]
     },
     "execution_count": 44,
     "metadata": {},
     "output_type": "execute_result"
    }
   ],
   "source": [
    "UserReviews.describe()"
   ]
  },
  {
   "cell_type": "markdown",
   "metadata": {},
   "source": [
    "# Distribution of the Photos Feature"
   ]
  },
  {
   "cell_type": "code",
   "execution_count": 45,
   "metadata": {},
   "outputs": [
    {
     "data": {
      "image/png": "[encoded data removed]",
      "text/plain": [
       "<Figure size 432x288 with 1 Axes>"
      ]
     },
     "metadata": {
      "needs_background": "light"
     },
     "output_type": "display_data"
    }
   ],
   "source": [
    "Photos = thaiVilla['Photos']\n",
    "Photos.hist(bins = 1000)\n",
    "plt.xlabel('Number of Photos')\n",
    "plt.ylabel('Frequency')\n",
    "plt.xlim(xmin=0, xmax = 400)\n",
    "plt.title('Distribution of Photos')\n",
    "#plt.figure(figsize=(20,20))\n",
    "plt.show()"
   ]
  },
  {
   "cell_type": "code",
   "execution_count": 46,
   "metadata": {},
   "outputs": [
    {
     "data": {
      "text/plain": [
       "count     704\n",
       "unique    250\n",
       "top         0\n",
       "freq      167\n",
       "Name: Photos, dtype: object"
      ]
     },
     "execution_count": 46,
     "metadata": {},
     "output_type": "execute_result"
    }
   ],
   "source": [
    "Photos.describe()"
   ]
  },
  {
   "cell_type": "markdown",
   "metadata": {},
   "source": [
    "# Time Series of Ratings vs Time"
   ]
  },
  {
   "cell_type": "code",
   "execution_count": 47,
   "metadata": {},
   "outputs": [],
   "source": [
    "import datetime\n",
    "import random\n",
    "import matplotlib.pyplot as plt"
   ]
  },
  {
   "cell_type": "code",
   "execution_count": 48,
   "metadata": {},
   "outputs": [],
   "source": [
    "sortedDf = thaiVilla.sort_values(['Date'], ascending=True)"
   ]
  },
  {
   "cell_type": "code",
   "execution_count": 49,
   "metadata": {},
   "outputs": [],
   "source": [
    "sortedDf = pd.DataFrame(sortedDf.groupby(\"Date\")[\"Rating\"].mean())"
   ]
  },
  {
   "cell_type": "code",
   "execution_count": 50,
   "metadata": {},
   "outputs": [],
   "source": [
    "x = sortedDf.index\n",
    "y = sortedDf['Rating']"
   ]
  },
  {
   "cell_type": "code",
   "execution_count": 51,
   "metadata": {},
   "outputs": [
    {
     "data": {
      "image/png": "[encoded data removed]",
      "text/plain": [
       "<Figure size 432x288 with 1 Axes>"
      ]
     },
     "metadata": {
      "needs_background": "light"
     },
     "output_type": "display_data"
    },
    {
     "data": {
      "text/plain": [
       "<Figure size 3600x1080 with 0 Axes>"
      ]
     },
     "metadata": {},
     "output_type": "display_data"
    }
   ],
   "source": [
    "plt.plot(x,y)\n",
    "plt.title('Daily Rating Aggregate')\n",
    "plt.ylabel('Rating')\n",
    "plt.xlabel('Day')\n",
    "plt.figure(figsize=(50,15))\n",
    "plt.show()"
   ]
  },
  {
   "cell_type": "code",
   "execution_count": 52,
   "metadata": {},
   "outputs": [],
   "source": [
    "sortedDf = thaiVilla.sort_values(['Date'], ascending=True)"
   ]
  },
  {
   "cell_type": "code",
   "execution_count": 53,
   "metadata": {},
   "outputs": [],
   "source": [
    "monthlyRating = pd.DataFrame(sortedDf.groupby([sortedDf['Date'].dt.year.rename('year'), sortedDf['Date'].dt.month_name().rename('month')])['Rating'].mean().reset_index())"
   ]
  },
  {
   "cell_type": "code",
   "execution_count": 54,
   "metadata": {},
   "outputs": [],
   "source": [
    "monthlyRating['my'] = monthlyRating['year'].astype(str) + ' ' + monthlyRating['month'].astype(str)"
   ]
  },
  {
   "cell_type": "code",
   "execution_count": 55,
   "metadata": {},
   "outputs": [
    {
     "data": {
      "text/html": [
       "<div>\n",
       "<style scoped>\n",
       "    .dataframe tbody tr th:only-of-type {\n",
       "        vertical-align: middle;\n",
       "    }\n",
       "\n",
       "    .dataframe tbody tr th {\n",
       "        vertical-align: top;\n",
       "    }\n",
       "\n",
       "    .dataframe thead th {\n",
       "        text-align: right;\n",
       "    }\n",
       "</style>\n",
       "<table border=\"1\" class=\"dataframe\">\n",
       "  <thead>\n",
       "    <tr style=\"text-align: right;\">\n",
       "      <th></th>\n",
       "      <th>year</th>\n",
       "      <th>month</th>\n",
       "      <th>Rating</th>\n",
       "      <th>my</th>\n",
       "    </tr>\n",
       "  </thead>\n",
       "  <tbody>\n",
       "    <tr>\n",
       "      <th>0</th>\n",
       "      <td>2014</td>\n",
       "      <td>April</td>\n",
       "      <td>3.400000</td>\n",
       "      <td>2014 April</td>\n",
       "    </tr>\n",
       "    <tr>\n",
       "      <th>1</th>\n",
       "      <td>2014</td>\n",
       "      <td>August</td>\n",
       "      <td>3.555556</td>\n",
       "      <td>2014 August</td>\n",
       "    </tr>\n",
       "    <tr>\n",
       "      <th>2</th>\n",
       "      <td>2014</td>\n",
       "      <td>December</td>\n",
       "      <td>2.833333</td>\n",
       "      <td>2014 December</td>\n",
       "    </tr>\n",
       "    <tr>\n",
       "      <th>3</th>\n",
       "      <td>2014</td>\n",
       "      <td>July</td>\n",
       "      <td>3.428571</td>\n",
       "      <td>2014 July</td>\n",
       "    </tr>\n",
       "    <tr>\n",
       "      <th>4</th>\n",
       "      <td>2014</td>\n",
       "      <td>June</td>\n",
       "      <td>3.846154</td>\n",
       "      <td>2014 June</td>\n",
       "    </tr>\n",
       "    <tr>\n",
       "      <th>...</th>\n",
       "      <td>...</td>\n",
       "      <td>...</td>\n",
       "      <td>...</td>\n",
       "      <td>...</td>\n",
       "    </tr>\n",
       "    <tr>\n",
       "      <th>83</th>\n",
       "      <td>2021</td>\n",
       "      <td>June</td>\n",
       "      <td>2.250000</td>\n",
       "      <td>2021 June</td>\n",
       "    </tr>\n",
       "    <tr>\n",
       "      <th>84</th>\n",
       "      <td>2021</td>\n",
       "      <td>March</td>\n",
       "      <td>3.777778</td>\n",
       "      <td>2021 March</td>\n",
       "    </tr>\n",
       "    <tr>\n",
       "      <th>85</th>\n",
       "      <td>2021</td>\n",
       "      <td>May</td>\n",
       "      <td>3.166667</td>\n",
       "      <td>2021 May</td>\n",
       "    </tr>\n",
       "    <tr>\n",
       "      <th>86</th>\n",
       "      <td>2021</td>\n",
       "      <td>October</td>\n",
       "      <td>2.600000</td>\n",
       "      <td>2021 October</td>\n",
       "    </tr>\n",
       "    <tr>\n",
       "      <th>87</th>\n",
       "      <td>2021</td>\n",
       "      <td>September</td>\n",
       "      <td>4.200000</td>\n",
       "      <td>2021 September</td>\n",
       "    </tr>\n",
       "  </tbody>\n",
       "</table>\n",
       "<p>88 rows × 4 columns</p>\n",
       "</div>"
      ],
      "text/plain": [
       "    year      month    Rating              my\n",
       "0   2014      April  3.400000      2014 April\n",
       "1   2014     August  3.555556     2014 August\n",
       "2   2014   December  2.833333   2014 December\n",
       "3   2014       July  3.428571       2014 July\n",
       "4   2014       June  3.846154       2014 June\n",
       "..   ...        ...       ...             ...\n",
       "83  2021       June  2.250000       2021 June\n",
       "84  2021      March  3.777778      2021 March\n",
       "85  2021        May  3.166667        2021 May\n",
       "86  2021    October  2.600000    2021 October\n",
       "87  2021  September  4.200000  2021 September\n",
       "\n",
       "[88 rows x 4 columns]"
      ]
     },
     "execution_count": 55,
     "metadata": {},
     "output_type": "execute_result"
    }
   ],
   "source": [
    "monthlyRating"
   ]
  },
  {
   "cell_type": "code",
   "execution_count": 56,
   "metadata": {},
   "outputs": [],
   "source": [
    "x = monthlyRating['my']\n",
    "y = monthlyRating['Rating']"
   ]
  },
  {
   "cell_type": "code",
   "execution_count": 57,
   "metadata": {},
   "outputs": [
    {
     "data": {
      "image/png": "[encoded data removed]",
      "text/plain": [
       "<Figure size 432x288 with 1 Axes>"
      ]
     },
     "metadata": {
      "needs_background": "light"
     },
     "output_type": "display_data"
    },
    {
     "data": {
      "text/plain": [
       "<Figure size 3600x1080 with 0 Axes>"
      ]
     },
     "metadata": {},
     "output_type": "display_data"
    }
   ],
   "source": [
    "plt.plot(x,y)\n",
    "plt.title('Monthly Rating Aggregate')\n",
    "plt.ylabel('Rating')\n",
    "plt.xlabel('Month and Year')\n",
    "plt.figure(figsize=(50,15))\n",
    "plt.show()"
   ]
  },
  {
   "cell_type": "markdown",
   "metadata": {},
   "source": [
    "# Food Occurences in Menu"
   ]
  },
  {
   "cell_type": "code",
   "execution_count": 58,
   "metadata": {},
   "outputs": [],
   "source": [
    "lst = []\n",
    "for i, row in thaiVilla.iterrows():\n",
    "    count = 0\n",
    "    s = row.Review.lower().replace(' ', '')\n",
    "    for i in thaiMenu:\n",
    "        i = i.lower()\n",
    "        if i.replace(' ', '') in s:\n",
    "            count += 1\n",
    "    lst.append(count)\n",
    "    \n",
    "#     print(i, row)\n",
    "#     count = 0\n",
    "#     s = row.Review.lower()\n",
    "#     s = s.plit()\n",
    "#     seven = s[:7]\n",
    "#     six = s[:6]\n",
    "#     five = s[:5]\n",
    "#     four = s[:4]\n",
    "#     three = s[:3]\n",
    "#     two = s[:2]\n",
    "#     for j in s:\n",
    "#         if j in thaiMenu:\n",
    "#             count += 1\n",
    "#     for j in s:\n",
    "#         if seven in s or sixe.....:\n",
    "#             count += 1\n",
    "#         seven = seven[1:] + [j]\n",
    "#         ...\n",
    "#     lst.append(count)\n",
    "#     break"
   ]
  },
  {
   "cell_type": "code",
   "execution_count": 59,
   "metadata": {},
   "outputs": [],
   "source": [
    "thaiVilla['Food Occurs'] = lst"
   ]
  },
  {
   "cell_type": "markdown",
   "metadata": {},
   "source": [
    "# Catching Sentiment in Reviews"
   ]
  },
  {
   "cell_type": "code",
   "execution_count": 60,
   "metadata": {},
   "outputs": [],
   "source": [
    "positive = {'best', 'amazing', 'love', 'good', 'perfect', 'fantastic', 'beautiful', 'yummy', 'delicious'}\n",
    "negative = {'horrible', 'bad', 'gross', 'hate', 'disgusting', 'dread', 'terrible'}"
   ]
  },
  {
   "cell_type": "code",
   "execution_count": 61,
   "metadata": {},
   "outputs": [],
   "source": [
    "plst = []\n",
    "nlst = []\n",
    "for i, row in thaiVilla.iterrows():\n",
    "    gcount = 0\n",
    "    ncount = 0\n",
    "    s = row.Review.lower().replace(' ', '')\n",
    "    for i in positive:\n",
    "        if i in s:\n",
    "            gcount += 1\n",
    "    for i in negative:\n",
    "        if i in s:\n",
    "            ncount += 1     \n",
    "    plst.append(gcount)\n",
    "    nlst.append(ncount)"
   ]
  },
  {
   "cell_type": "code",
   "execution_count": 62,
   "metadata": {},
   "outputs": [],
   "source": [
    "thaiVilla['Positive Occurs'] = plst\n",
    "thaiVilla['Negative Occurs'] = nlst"
   ]
  },
  {
   "cell_type": "code",
   "execution_count": 63,
   "metadata": {},
   "outputs": [
    {
     "data": {
      "text/html": [
       "<div>\n",
       "<style scoped>\n",
       "    .dataframe tbody tr th:only-of-type {\n",
       "        vertical-align: middle;\n",
       "    }\n",
       "\n",
       "    .dataframe tbody tr th {\n",
       "        vertical-align: top;\n",
       "    }\n",
       "\n",
       "    .dataframe thead th {\n",
       "        text-align: right;\n",
       "    }\n",
       "</style>\n",
       "<table border=\"1\" class=\"dataframe\">\n",
       "  <thead>\n",
       "    <tr style=\"text-align: right;\">\n",
       "      <th></th>\n",
       "      <th>Friends</th>\n",
       "      <th>Name</th>\n",
       "      <th>Rating</th>\n",
       "      <th>Review</th>\n",
       "      <th>UserReviews</th>\n",
       "      <th>Photos</th>\n",
       "      <th>Date</th>\n",
       "      <th>Food Occurs</th>\n",
       "      <th>Positive Occurs</th>\n",
       "      <th>Negative Occurs</th>\n",
       "    </tr>\n",
       "  </thead>\n",
       "  <tbody>\n",
       "    <tr>\n",
       "      <th>0</th>\n",
       "      <td>289</td>\n",
       "      <td>Shivina K.</td>\n",
       "      <td>5</td>\n",
       "      <td>We live near this place in FiDi and have been ...</td>\n",
       "      <td>68</td>\n",
       "      <td>111</td>\n",
       "      <td>2021-10-14</td>\n",
       "      <td>0</td>\n",
       "      <td>2</td>\n",
       "      <td>0</td>\n",
       "    </tr>\n",
       "    <tr>\n",
       "      <th>1</th>\n",
       "      <td>14</td>\n",
       "      <td>Joe O.</td>\n",
       "      <td>2</td>\n",
       "      <td>Took us a very long while to get served. Furth...</td>\n",
       "      <td>54</td>\n",
       "      <td>74</td>\n",
       "      <td>2021-10-03</td>\n",
       "      <td>1</td>\n",
       "      <td>0</td>\n",
       "      <td>0</td>\n",
       "    </tr>\n",
       "    <tr>\n",
       "      <th>2</th>\n",
       "      <td>1</td>\n",
       "      <td>Shawn L.</td>\n",
       "      <td>2</td>\n",
       "      <td>Let's start with that a few years ago there we...</td>\n",
       "      <td>78</td>\n",
       "      <td>38</td>\n",
       "      <td>2021-10-02</td>\n",
       "      <td>1</td>\n",
       "      <td>1</td>\n",
       "      <td>0</td>\n",
       "    </tr>\n",
       "    <tr>\n",
       "      <th>3</th>\n",
       "      <td>426</td>\n",
       "      <td>Susan Y.</td>\n",
       "      <td>5</td>\n",
       "      <td>First off, this restaurant is HUGE! I would sa...</td>\n",
       "      <td>39</td>\n",
       "      <td>140</td>\n",
       "      <td>2021-08-24</td>\n",
       "      <td>1</td>\n",
       "      <td>3</td>\n",
       "      <td>0</td>\n",
       "    </tr>\n",
       "    <tr>\n",
       "      <th>4</th>\n",
       "      <td>20</td>\n",
       "      <td>Grace A.</td>\n",
       "      <td>5</td>\n",
       "      <td>Great service, excellent food...can't say enou...</td>\n",
       "      <td>100</td>\n",
       "      <td>180</td>\n",
       "      <td>2021-09-05</td>\n",
       "      <td>0</td>\n",
       "      <td>0</td>\n",
       "      <td>0</td>\n",
       "    </tr>\n",
       "    <tr>\n",
       "      <th>...</th>\n",
       "      <td>...</td>\n",
       "      <td>...</td>\n",
       "      <td>...</td>\n",
       "      <td>...</td>\n",
       "      <td>...</td>\n",
       "      <td>...</td>\n",
       "      <td>...</td>\n",
       "      <td>...</td>\n",
       "      <td>...</td>\n",
       "      <td>...</td>\n",
       "    </tr>\n",
       "    <tr>\n",
       "      <th>699</th>\n",
       "      <td>0</td>\n",
       "      <td>Celia Z.</td>\n",
       "      <td>5</td>\n",
       "      <td>First time for 5 persons of diverse tastes.  G...</td>\n",
       "      <td>7</td>\n",
       "      <td>0</td>\n",
       "      <td>2014-06-26</td>\n",
       "      <td>2</td>\n",
       "      <td>1</td>\n",
       "      <td>0</td>\n",
       "    </tr>\n",
       "    <tr>\n",
       "      <th>700</th>\n",
       "      <td>0</td>\n",
       "      <td>Priya A.</td>\n",
       "      <td>2</td>\n",
       "      <td>I decided to try this place after my friend ra...</td>\n",
       "      <td>28</td>\n",
       "      <td>0</td>\n",
       "      <td>2014-05-29</td>\n",
       "      <td>0</td>\n",
       "      <td>1</td>\n",
       "      <td>0</td>\n",
       "    </tr>\n",
       "    <tr>\n",
       "      <th>701</th>\n",
       "      <td>0</td>\n",
       "      <td>Gino P.</td>\n",
       "      <td>2</td>\n",
       "      <td>Came in on a Saturday afternoon around 3 and s...</td>\n",
       "      <td>7</td>\n",
       "      <td>0</td>\n",
       "      <td>2016-04-22</td>\n",
       "      <td>0</td>\n",
       "      <td>1</td>\n",
       "      <td>0</td>\n",
       "    </tr>\n",
       "    <tr>\n",
       "      <th>702</th>\n",
       "      <td>3</td>\n",
       "      <td>annabelle l.</td>\n",
       "      <td>2</td>\n",
       "      <td>terrible sevice! food was passable. we waited ...</td>\n",
       "      <td>7</td>\n",
       "      <td>2</td>\n",
       "      <td>2015-06-29</td>\n",
       "      <td>0</td>\n",
       "      <td>0</td>\n",
       "      <td>1</td>\n",
       "    </tr>\n",
       "    <tr>\n",
       "      <th>703</th>\n",
       "      <td>4</td>\n",
       "      <td>Moe M.</td>\n",
       "      <td>4</td>\n",
       "      <td>4 of us went here on a Saturday Night.  There ...</td>\n",
       "      <td>89</td>\n",
       "      <td>3</td>\n",
       "      <td>2015-06-14</td>\n",
       "      <td>2</td>\n",
       "      <td>3</td>\n",
       "      <td>0</td>\n",
       "    </tr>\n",
       "  </tbody>\n",
       "</table>\n",
       "<p>704 rows × 10 columns</p>\n",
       "</div>"
      ],
      "text/plain": [
       "     Friends          Name  Rating  \\\n",
       "0        289    Shivina K.       5   \n",
       "1         14        Joe O.       2   \n",
       "2          1      Shawn L.       2   \n",
       "3        426      Susan Y.       5   \n",
       "4         20      Grace A.       5   \n",
       "..       ...           ...     ...   \n",
       "699        0      Celia Z.       5   \n",
       "700        0      Priya A.       2   \n",
       "701        0       Gino P.       2   \n",
       "702        3  annabelle l.       2   \n",
       "703        4        Moe M.       4   \n",
       "\n",
       "                                                Review  UserReviews Photos  \\\n",
       "0    We live near this place in FiDi and have been ...           68    111   \n",
       "1    Took us a very long while to get served. Furth...           54     74   \n",
       "2    Let's start with that a few years ago there we...           78     38   \n",
       "3    First off, this restaurant is HUGE! I would sa...           39    140   \n",
       "4    Great service, excellent food...can't say enou...          100    180   \n",
       "..                                                 ...          ...    ...   \n",
       "699  First time for 5 persons of diverse tastes.  G...            7      0   \n",
       "700  I decided to try this place after my friend ra...           28      0   \n",
       "701  Came in on a Saturday afternoon around 3 and s...            7      0   \n",
       "702  terrible sevice! food was passable. we waited ...            7      2   \n",
       "703  4 of us went here on a Saturday Night.  There ...           89      3   \n",
       "\n",
       "          Date  Food Occurs  Positive Occurs  Negative Occurs  \n",
       "0   2021-10-14            0                2                0  \n",
       "1   2021-10-03            1                0                0  \n",
       "2   2021-10-02            1                1                0  \n",
       "3   2021-08-24            1                3                0  \n",
       "4   2021-09-05            0                0                0  \n",
       "..         ...          ...              ...              ...  \n",
       "699 2014-06-26            2                1                0  \n",
       "700 2014-05-29            0                1                0  \n",
       "701 2016-04-22            0                1                0  \n",
       "702 2015-06-29            0                0                1  \n",
       "703 2015-06-14            2                3                0  \n",
       "\n",
       "[704 rows x 10 columns]"
      ]
     },
     "execution_count": 63,
     "metadata": {},
     "output_type": "execute_result"
    }
   ],
   "source": [
    "thaiVilla"
   ]
  },
  {
   "cell_type": "markdown",
   "metadata": {},
   "source": [
    "# Correlation Heatmap"
   ]
  },
  {
   "cell_type": "code",
   "execution_count": 64,
   "metadata": {},
   "outputs": [
    {
     "data": {
      "text/plain": [
       "<matplotlib.axes._subplots.AxesSubplot at 0x7ff865b22510>"
      ]
     },
     "execution_count": 64,
     "metadata": {},
     "output_type": "execute_result"
    },
    {
     "data": {
      "image/png": "[encoded data removed]",
      "text/plain": [
       "<Figure size 720x720 with 2 Axes>"
      ]
     },
     "metadata": {
      "needs_background": "light"
     },
     "output_type": "display_data"
    }
   ],
   "source": [
    "correlation = thaiVilla[['Friends', 'Rating', 'UserReviews', 'Photos', 'Food Occurs', 'Positive Occurs', 'Negative Occurs']]\n",
    "\n",
    "corr = correlation.corr(method='kendall')\n",
    "plt.figure(figsize=(10,10))\n",
    "sns.heatmap(corr, annot=True, cmap=\"RdYlBu\")"
   ]
  },
  {
   "cell_type": "markdown",
   "metadata": {},
   "source": [
    "# Positive Sentiment Analysis"
   ]
  },
  {
   "cell_type": "code",
   "execution_count": 65,
   "metadata": {},
   "outputs": [
    {
     "data": {
      "image/png": "[encoded data removed]",
      "text/plain": [
       "<Figure size 432x288 with 1 Axes>"
      ]
     },
     "metadata": {
      "needs_background": "light"
     },
     "output_type": "display_data"
    }
   ],
   "source": [
    "posOcc = thaiVilla['Positive Occurs']\n",
    "posOcc.hist(bins = 10)\n",
    "plt.xlabel('Number of Positive Occurences')\n",
    "plt.ylabel('Frequency')\n",
    "# plt.xlim(xmin=0, xmax = 400)\n",
    "plt.title('Distribution of Positive Occurences')\n",
    "#plt.figure(figsize=(20,20))\n",
    "plt.show()"
   ]
  },
  {
   "cell_type": "markdown",
   "metadata": {},
   "source": [
    "# Negative Sentiment Analysis"
   ]
  },
  {
   "cell_type": "code",
   "execution_count": 66,
   "metadata": {},
   "outputs": [
    {
     "data": {
      "image/png": "[encoded data removed]",
      "text/plain": [
       "<Figure size 432x288 with 1 Axes>"
      ]
     },
     "metadata": {
      "needs_background": "light"
     },
     "output_type": "display_data"
    }
   ],
   "source": [
    "negOcc = thaiVilla['Negative Occurs']\n",
    "negOcc.hist(bins = 5)\n",
    "plt.xlabel('Number of Negative Occurences')\n",
    "plt.ylabel('Frequency')\n",
    "# plt.xlim(xmin=0, xmax = 400)\n",
    "plt.title('Distribution of Negative Occurences')\n",
    "#plt.figure(figsize=(20,20))\n",
    "plt.show()"
   ]
  },
  {
   "cell_type": "code",
   "execution_count": null,
   "metadata": {},
   "outputs": [],
   "source": []
  },
  {
   "cell_type": "code",
   "execution_count": null,
   "metadata": {},
   "outputs": [],
   "source": []
  }
 ],
 "metadata": {
  "kernelspec": {
   "display_name": "Python 3",
   "language": "python",
   "name": "python3"
  },
  "language_info": {
   "codemirror_mode": {
    "name": "ipython",
    "version": 3
   },
   "file_extension": ".py",
   "mimetype": "text/x-python",
   "name": "python",
   "nbconvert_exporter": "python",
   "pygments_lexer": "ipython3",
   "version": "3.7.6"
  }
 },
 "nbformat": 4,
 "nbformat_minor": 4
}
