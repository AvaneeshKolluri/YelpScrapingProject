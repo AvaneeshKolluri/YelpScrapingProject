{
 "cells": [
  {
   "cell_type": "code",
   "execution_count": 1,
   "metadata": {},
   "outputs": [],
   "source": [
    "import pandas as pd\n",
    "import numpy as np\n",
    "import seaborn as sns\n",
    "import matplotlib.pyplot as plt"
   ]
  },
  {
   "cell_type": "code",
   "execution_count": 2,
   "metadata": {},
   "outputs": [],
   "source": [
    "thaiVilla = pd.read_excel('NobuReview.xlsx').drop(columns = ['Unnamed: 0'])\n",
    "thaiVilla['Date'] = pd.to_datetime(thaiVilla['Date'])"
   ]
  },
  {
   "cell_type": "code",
   "execution_count": 3,
   "metadata": {},
   "outputs": [
    {
     "data": {
      "text/html": [
       "<div>\n",
       "<style scoped>\n",
       "    .dataframe tbody tr th:only-of-type {\n",
       "        vertical-align: middle;\n",
       "    }\n",
       "\n",
       "    .dataframe tbody tr th {\n",
       "        vertical-align: top;\n",
       "    }\n",
       "\n",
       "    .dataframe thead th {\n",
       "        text-align: right;\n",
       "    }\n",
       "</style>\n",
       "<table border=\"1\" class=\"dataframe\">\n",
       "  <thead>\n",
       "    <tr style=\"text-align: right;\">\n",
       "      <th></th>\n",
       "      <th>Friends</th>\n",
       "      <th>Name</th>\n",
       "      <th>Rating</th>\n",
       "      <th>Review</th>\n",
       "      <th>UserReviews</th>\n",
       "      <th>Photos</th>\n",
       "      <th>Date</th>\n",
       "    </tr>\n",
       "  </thead>\n",
       "  <tbody>\n",
       "    <tr>\n",
       "      <th>0</th>\n",
       "      <td>414</td>\n",
       "      <td>David X.</td>\n",
       "      <td>5</td>\n",
       "      <td>A bit on the pricier side of things but it was...</td>\n",
       "      <td>38</td>\n",
       "      <td>37</td>\n",
       "      <td>2021-10-10</td>\n",
       "    </tr>\n",
       "    <tr>\n",
       "      <th>1</th>\n",
       "      <td>16</td>\n",
       "      <td>Bianca W.</td>\n",
       "      <td>5</td>\n",
       "      <td>Ok so here's the list of things I had! All I'm...</td>\n",
       "      <td>95</td>\n",
       "      <td>253</td>\n",
       "      <td>2021-09-17</td>\n",
       "    </tr>\n",
       "    <tr>\n",
       "      <th>2</th>\n",
       "      <td>11</td>\n",
       "      <td>Ms F.</td>\n",
       "      <td>3</td>\n",
       "      <td>It's asian fusion than Japanese. Miso black co...</td>\n",
       "      <td>216</td>\n",
       "      <td>106</td>\n",
       "      <td>2021-08-10</td>\n",
       "    </tr>\n",
       "    <tr>\n",
       "      <th>3</th>\n",
       "      <td>11</td>\n",
       "      <td>Cindy Y.</td>\n",
       "      <td>5</td>\n",
       "      <td>Fond memories! Bruce and I love this place. We...</td>\n",
       "      <td>50</td>\n",
       "      <td>398</td>\n",
       "      <td>2021-10-25</td>\n",
       "    </tr>\n",
       "    <tr>\n",
       "      <th>4</th>\n",
       "      <td>14</td>\n",
       "      <td>Joe O.</td>\n",
       "      <td>4</td>\n",
       "      <td>My girlfriend and I came here for the first ti...</td>\n",
       "      <td>54</td>\n",
       "      <td>74</td>\n",
       "      <td>2021-08-08</td>\n",
       "    </tr>\n",
       "    <tr>\n",
       "      <th>...</th>\n",
       "      <td>...</td>\n",
       "      <td>...</td>\n",
       "      <td>...</td>\n",
       "      <td>...</td>\n",
       "      <td>...</td>\n",
       "      <td>...</td>\n",
       "      <td>...</td>\n",
       "    </tr>\n",
       "    <tr>\n",
       "      <th>452</th>\n",
       "      <td>0</td>\n",
       "      <td>Stewart H.</td>\n",
       "      <td>5</td>\n",
       "      <td>Tried the new spot.  Everything as before but ...</td>\n",
       "      <td>11</td>\n",
       "      <td>0</td>\n",
       "      <td>2017-05-21</td>\n",
       "    </tr>\n",
       "    <tr>\n",
       "      <th>453</th>\n",
       "      <td>0</td>\n",
       "      <td>John M.</td>\n",
       "      <td>2</td>\n",
       "      <td>After going to the TriBeCa location for the pa...</td>\n",
       "      <td>2</td>\n",
       "      <td>0</td>\n",
       "      <td>2017-04-20</td>\n",
       "    </tr>\n",
       "    <tr>\n",
       "      <th>454</th>\n",
       "      <td>0</td>\n",
       "      <td>Dottie N.</td>\n",
       "      <td>5</td>\n",
       "      <td>Ambience is chic elegant the space is beautifu...</td>\n",
       "      <td>74</td>\n",
       "      <td>1</td>\n",
       "      <td>2017-05-18</td>\n",
       "    </tr>\n",
       "    <tr>\n",
       "      <th>455</th>\n",
       "      <td>0</td>\n",
       "      <td>Joe L.</td>\n",
       "      <td>5</td>\n",
       "      <td>it's pricey, but you get what you pay for....b...</td>\n",
       "      <td>24</td>\n",
       "      <td>3</td>\n",
       "      <td>2018-06-20</td>\n",
       "    </tr>\n",
       "    <tr>\n",
       "      <th>456</th>\n",
       "      <td>0</td>\n",
       "      <td>Lana F.</td>\n",
       "      <td>4</td>\n",
       "      <td>We came to the place for some drinks and food....</td>\n",
       "      <td>32</td>\n",
       "      <td>12</td>\n",
       "      <td>2018-02-28</td>\n",
       "    </tr>\n",
       "  </tbody>\n",
       "</table>\n",
       "<p>457 rows × 7 columns</p>\n",
       "</div>"
      ],
      "text/plain": [
       "     Friends        Name  Rating  \\\n",
       "0        414    David X.       5   \n",
       "1         16   Bianca W.       5   \n",
       "2         11       Ms F.       3   \n",
       "3         11    Cindy Y.       5   \n",
       "4         14      Joe O.       4   \n",
       "..       ...         ...     ...   \n",
       "452        0  Stewart H.       5   \n",
       "453        0     John M.       2   \n",
       "454        0   Dottie N.       5   \n",
       "455        0      Joe L.       5   \n",
       "456        0     Lana F.       4   \n",
       "\n",
       "                                                Review  UserReviews  Photos  \\\n",
       "0    A bit on the pricier side of things but it was...           38      37   \n",
       "1    Ok so here's the list of things I had! All I'm...           95     253   \n",
       "2    It's asian fusion than Japanese. Miso black co...          216     106   \n",
       "3    Fond memories! Bruce and I love this place. We...           50     398   \n",
       "4    My girlfriend and I came here for the first ti...           54      74   \n",
       "..                                                 ...          ...     ...   \n",
       "452  Tried the new spot.  Everything as before but ...           11       0   \n",
       "453  After going to the TriBeCa location for the pa...            2       0   \n",
       "454  Ambience is chic elegant the space is beautifu...           74       1   \n",
       "455  it's pricey, but you get what you pay for....b...           24       3   \n",
       "456  We came to the place for some drinks and food....           32      12   \n",
       "\n",
       "          Date  \n",
       "0   2021-10-10  \n",
       "1   2021-09-17  \n",
       "2   2021-08-10  \n",
       "3   2021-10-25  \n",
       "4   2021-08-08  \n",
       "..         ...  \n",
       "452 2017-05-21  \n",
       "453 2017-04-20  \n",
       "454 2017-05-18  \n",
       "455 2018-06-20  \n",
       "456 2018-02-28  \n",
       "\n",
       "[457 rows x 7 columns]"
      ]
     },
     "execution_count": 3,
     "metadata": {},
     "output_type": "execute_result"
    }
   ],
   "source": [
    "thaiVilla"
   ]
  },
  {
   "cell_type": "code",
   "execution_count": 4,
   "metadata": {},
   "outputs": [],
   "source": [
    "thaiMenu = {'CLASSIC BENTO BOX',\n",
    " 'POWER BENTO BOX',\n",
    " 'SUSHI SELECTION',\n",
    " 'SASHIMI SELECTION',\n",
    " 'Toro Tartare with Caviar',\n",
    " 'Salmon or Yellowtail Tartare',\n",
    " 'Sashimi Salad with Matsuhisa Dressing',\n",
    " 'Lobster Shiitake Salad with Spicy Lemon Dressing',\n",
    " 'Yellowtail Jalapeno',\n",
    " 'Tiradito',\n",
    " 'Tuna Tataki with Tosazu',\n",
    " 'New Style Sashimi',\n",
    " 'Fluke Sashimi Dry Miso',\n",
    " 'Crispy Rice with Spicy Tuna',\n",
    " 'Baby Spinach Salad with Dry Miso & Grilled Shrimp',\n",
    " 'Baby Spinach Salad with Lobster',\n",
    " 'Black Cod with Miso',\n",
    " 'Black Cod Butter Lettuce',\n",
    " \"Squid 'Pasta' with Light Garlic Sauce\",\n",
    " 'Rock Shrimp Tempura with Creamy Spicy Sauce or Ponzu',\n",
    " 'King Crab Tempura Amazu Ponzu',\n",
    " 'Lobster Wasabi Pepper',\n",
    " 'Chicken',\n",
    " 'Grilled Salmon',\n",
    " 'Beef Tenderloin',\n",
    " 'Tofu & Vegetables Spicy Garlic',\n",
    " 'Miso Soup with Tofu',\n",
    " 'Edamame',\n",
    " 'Edamame Choclo',\n",
    " 'Shishito Sea Salt',\n",
    " 'Shishito Den Miso',\n",
    " 'Vegetable',\n",
    " 'Tuna',\n",
    " 'Salmon',\n",
    " 'King Crab',\n",
    " 'Lobster',\n",
    " 'Wagyu',\n",
    " 'Field Greens',\n",
    " 'Shiitake Salad with Spicy Lemon Dressing',\n",
    " 'Baby Spinach Salad with Dry Miso',\n",
    " 'Crispy Rice with Spicy Avocado',\n",
    " 'Eggplant with Miso',\n",
    " 'Roasted Cauliflower Jalapeno Salsa',\n",
    " 'Shojin - Vegetable Tempura Selection',\n",
    " 'Warm Mushroom Salad',\n",
    " 'Tofu New Style',\n",
    " 'Tuna',\n",
    " 'Toro',\n",
    " 'Salmon',\n",
    " 'Yellowtail',\n",
    " 'Fluke',\n",
    " 'Japanese Red Snapper',\n",
    " 'Shrimp',\n",
    " 'Snow Crab',\n",
    " 'King Crab',\n",
    " 'Scallop',\n",
    " 'Octopus',\n",
    " 'Japanese Eel',\n",
    " 'Japanese Sea Urchin',\n",
    " 'Smelt Eggs',\n",
    " 'Salmon Eggs',\n",
    " 'Tamago',\n",
    " 'Wagyu',\n",
    " 'BENTO BOX',\n",
    " 'BANANA SOY TOBAN',\n",
    " 'WHISKY CAPPUCCINO',\n",
    " 'SOBA CHA BROWNIE',\n",
    " 'DOWNTOWN CHEESECAKE',\n",
    " 'PINEAPPLE COCONUT CAKE',\n",
    " 'HOUSE-MADE GELATO OR SORBET',\n",
    " 'MOCHI ICE CREAM',\n",
    " 'Coffee',\n",
    " 'Espresso',\n",
    " 'Americano',\n",
    " 'Macchiato',\n",
    " 'Cortado',\n",
    " 'Cappuccino',\n",
    " 'Cafe Latte',\n",
    " 'HOJICHAWarm smoky notes with hints of caramel',\n",
    " 'BLACK ORCHIDYlang ylang flower scented, with smooth vanilla & mandarin notes',\n",
    " 'NOBU SHISOCaptivating fragrance of shiso leaf, delicate sweetness, subtle character',\n",
    " 'SOBACHA (Caffeine-Free)Rich malty and nutty aroma with a smooth buttery finish',\n",
    " 'LEMONGRASS GINGER (Caffeine-Free)Aromatic lemongrass, balanced with warm, spicy ginger',\n",
    " 'SOOTHE (Caffeine-Free)Comforting floral note with relaxing minty scent'}"
   ]
  },
  {
   "cell_type": "markdown",
   "metadata": {},
   "source": [
    "# Distribution of the Friends Feature"
   ]
  },
  {
   "cell_type": "code",
   "execution_count": 5,
   "metadata": {},
   "outputs": [],
   "source": [
    "friends = thaiVilla['Friends']"
   ]
  },
  {
   "cell_type": "code",
   "execution_count": 6,
   "metadata": {},
   "outputs": [
    {
     "data": {
      "image/png": "[encoded data removed]",
      "text/plain": [
       "<Figure size 432x288 with 1 Axes>"
      ]
     },
     "metadata": {
      "needs_background": "light"
     },
     "output_type": "display_data"
    }
   ],
   "source": [
    "friends.hist(bins = 100)\n",
    "plt.xlabel('Number of Friends')\n",
    "plt.ylabel('Frequency')\n",
    "plt.xlim(xmin=0, xmax = 500)\n",
    "plt.title('Distribution of Friends')\n",
    "#plt.figure(figsize=(20,20))\n",
    "plt.show()"
   ]
  },
  {
   "cell_type": "code",
   "execution_count": 7,
   "metadata": {},
   "outputs": [
    {
     "data": {
      "text/plain": [
       "count     457.000000\n",
       "mean      122.129103\n",
       "std       281.687145\n",
       "min         0.000000\n",
       "25%         0.000000\n",
       "50%        16.000000\n",
       "75%       145.000000\n",
       "max      3984.000000\n",
       "Name: Friends, dtype: float64"
      ]
     },
     "execution_count": 7,
     "metadata": {},
     "output_type": "execute_result"
    }
   ],
   "source": [
    "friends.describe()"
   ]
  },
  {
   "cell_type": "markdown",
   "metadata": {},
   "source": [
    "# Distribution of the Ratings Feature"
   ]
  },
  {
   "cell_type": "code",
   "execution_count": 8,
   "metadata": {},
   "outputs": [
    {
     "data": {
      "image/png": "[encoded data removed]",
      "text/plain": [
       "<Figure size 432x288 with 1 Axes>"
      ]
     },
     "metadata": {
      "needs_background": "light"
     },
     "output_type": "display_data"
    }
   ],
   "source": [
    "Ratings = thaiVilla['Rating']\n",
    "Ratings.hist(bins = 5)\n",
    "plt.xlabel('Rating')\n",
    "plt.ylabel('Frequency')\n",
    "#plt.xlim(xmin=0, xmax = 150)\n",
    "plt.title('Distribution of Ratings')\n",
    "#plt.figure(figsize=(20,20))\n",
    "plt.show()"
   ]
  },
  {
   "cell_type": "code",
   "execution_count": 9,
   "metadata": {},
   "outputs": [
    {
     "data": {
      "text/plain": [
       "count    457.000000\n",
       "mean       3.691466\n",
       "std        1.456607\n",
       "min        1.000000\n",
       "25%        3.000000\n",
       "50%        4.000000\n",
       "75%        5.000000\n",
       "max        5.000000\n",
       "Name: Rating, dtype: float64"
      ]
     },
     "execution_count": 9,
     "metadata": {},
     "output_type": "execute_result"
    }
   ],
   "source": [
    "Ratings.describe()"
   ]
  },
  {
   "cell_type": "markdown",
   "metadata": {},
   "source": [
    "# Distribution of the UserReviews Feature"
   ]
  },
  {
   "cell_type": "code",
   "execution_count": 10,
   "metadata": {},
   "outputs": [
    {
     "data": {
      "image/png": "[encoded data removed]",
      "text/plain": [
       "<Figure size 432x288 with 1 Axes>"
      ]
     },
     "metadata": {
      "needs_background": "light"
     },
     "output_type": "display_data"
    }
   ],
   "source": [
    "UserReviews = thaiVilla['UserReviews']\n",
    "UserReviews.hist(bins = 50)\n",
    "plt.xlabel('Rating')\n",
    "plt.ylabel('Frequency')\n",
    "plt.xlim(xmin=0, xmax = 2000)\n",
    "plt.title('Distribution of UserReviews')\n",
    "#plt.figure(figsize=(20,20))\n",
    "plt.show()"
   ]
  },
  {
   "cell_type": "code",
   "execution_count": 11,
   "metadata": {},
   "outputs": [
    {
     "data": {
      "text/plain": [
       "count     457.000000\n",
       "mean      118.975930\n",
       "std       268.063682\n",
       "min         1.000000\n",
       "25%        13.000000\n",
       "50%        39.000000\n",
       "75%       128.000000\n",
       "max      3918.000000\n",
       "Name: UserReviews, dtype: float64"
      ]
     },
     "execution_count": 11,
     "metadata": {},
     "output_type": "execute_result"
    }
   ],
   "source": [
    "UserReviews.describe()"
   ]
  },
  {
   "cell_type": "markdown",
   "metadata": {},
   "source": [
    "# Distribution of the Photos Feature"
   ]
  },
  {
   "cell_type": "code",
   "execution_count": 12,
   "metadata": {},
   "outputs": [
    {
     "data": {
      "image/png": "[encoded data removed]",
      "text/plain": [
       "<Figure size 432x288 with 1 Axes>"
      ]
     },
     "metadata": {
      "needs_background": "light"
     },
     "output_type": "display_data"
    }
   ],
   "source": [
    "Photos = thaiVilla['Photos']\n",
    "Photos.hist(bins = 1000)\n",
    "plt.xlabel('Number of Photos')\n",
    "plt.ylabel('Frequency')\n",
    "plt.xlim(xmin=0, xmax = 400)\n",
    "plt.title('Distribution of Photos')\n",
    "#plt.figure(figsize=(20,20))\n",
    "plt.show()"
   ]
  },
  {
   "cell_type": "code",
   "execution_count": 13,
   "metadata": {},
   "outputs": [
    {
     "data": {
      "text/plain": [
       "count     457.000000\n",
       "mean      227.877462\n",
       "std       782.997946\n",
       "min         0.000000\n",
       "25%         1.000000\n",
       "50%        11.000000\n",
       "75%       111.000000\n",
       "max      9334.000000\n",
       "Name: Photos, dtype: float64"
      ]
     },
     "execution_count": 13,
     "metadata": {},
     "output_type": "execute_result"
    }
   ],
   "source": [
    "Photos.describe()"
   ]
  },
  {
   "cell_type": "markdown",
   "metadata": {},
   "source": [
    "# Time Series of Ratings vs Time"
   ]
  },
  {
   "cell_type": "code",
   "execution_count": 14,
   "metadata": {},
   "outputs": [],
   "source": [
    "import datetime\n",
    "import random\n",
    "import matplotlib.pyplot as plt"
   ]
  },
  {
   "cell_type": "code",
   "execution_count": 15,
   "metadata": {},
   "outputs": [],
   "source": [
    "sortedDf = thaiVilla.sort_values(['Date'], ascending=True)"
   ]
  },
  {
   "cell_type": "code",
   "execution_count": 16,
   "metadata": {},
   "outputs": [],
   "source": [
    "sortedDf = pd.DataFrame(sortedDf.groupby(\"Date\")[\"Rating\"].mean())"
   ]
  },
  {
   "cell_type": "code",
   "execution_count": 17,
   "metadata": {},
   "outputs": [],
   "source": [
    "x = sortedDf.index\n",
    "y = sortedDf['Rating']"
   ]
  },
  {
   "cell_type": "code",
   "execution_count": 18,
   "metadata": {},
   "outputs": [
    {
     "data": {
      "image/png": "[encoded data removed]",
      "text/plain": [
       "<Figure size 432x288 with 1 Axes>"
      ]
     },
     "metadata": {
      "needs_background": "light"
     },
     "output_type": "display_data"
    },
    {
     "data": {
      "text/plain": [
       "<Figure size 3600x1080 with 0 Axes>"
      ]
     },
     "metadata": {},
     "output_type": "display_data"
    }
   ],
   "source": [
    "plt.plot(x,y)\n",
    "plt.title('Daily Rating Aggregate')\n",
    "plt.ylabel('Rating')\n",
    "plt.xlabel('Day')\n",
    "plt.figure(figsize=(50,15))\n",
    "plt.show()"
   ]
  },
  {
   "cell_type": "code",
   "execution_count": 19,
   "metadata": {},
   "outputs": [],
   "source": [
    "sortedDf = thaiVilla.sort_values(['Date'], ascending=True)"
   ]
  },
  {
   "cell_type": "code",
   "execution_count": 20,
   "metadata": {},
   "outputs": [],
   "source": [
    "monthlyRating = pd.DataFrame(sortedDf.groupby([sortedDf['Date'].dt.year.rename('year'), sortedDf['Date'].dt.month_name().rename('month')])['Rating'].mean().reset_index())"
   ]
  },
  {
   "cell_type": "code",
   "execution_count": 21,
   "metadata": {},
   "outputs": [],
   "source": [
    "monthlyRating['my'] = monthlyRating['year'].astype(str) + ' ' + monthlyRating['month'].astype(str)"
   ]
  },
  {
   "cell_type": "code",
   "execution_count": 22,
   "metadata": {},
   "outputs": [
    {
     "data": {
      "text/html": [
       "<div>\n",
       "<style scoped>\n",
       "    .dataframe tbody tr th:only-of-type {\n",
       "        vertical-align: middle;\n",
       "    }\n",
       "\n",
       "    .dataframe tbody tr th {\n",
       "        vertical-align: top;\n",
       "    }\n",
       "\n",
       "    .dataframe thead th {\n",
       "        text-align: right;\n",
       "    }\n",
       "</style>\n",
       "<table border=\"1\" class=\"dataframe\">\n",
       "  <thead>\n",
       "    <tr style=\"text-align: right;\">\n",
       "      <th></th>\n",
       "      <th>year</th>\n",
       "      <th>month</th>\n",
       "      <th>Rating</th>\n",
       "      <th>my</th>\n",
       "    </tr>\n",
       "  </thead>\n",
       "  <tbody>\n",
       "    <tr>\n",
       "      <th>0</th>\n",
       "      <td>2017</td>\n",
       "      <td>April</td>\n",
       "      <td>3.000000</td>\n",
       "      <td>2017 April</td>\n",
       "    </tr>\n",
       "    <tr>\n",
       "      <th>1</th>\n",
       "      <td>2017</td>\n",
       "      <td>August</td>\n",
       "      <td>4.153846</td>\n",
       "      <td>2017 August</td>\n",
       "    </tr>\n",
       "    <tr>\n",
       "      <th>2</th>\n",
       "      <td>2017</td>\n",
       "      <td>December</td>\n",
       "      <td>3.428571</td>\n",
       "      <td>2017 December</td>\n",
       "    </tr>\n",
       "    <tr>\n",
       "      <th>3</th>\n",
       "      <td>2017</td>\n",
       "      <td>July</td>\n",
       "      <td>3.750000</td>\n",
       "      <td>2017 July</td>\n",
       "    </tr>\n",
       "    <tr>\n",
       "      <th>4</th>\n",
       "      <td>2017</td>\n",
       "      <td>June</td>\n",
       "      <td>3.538462</td>\n",
       "      <td>2017 June</td>\n",
       "    </tr>\n",
       "    <tr>\n",
       "      <th>5</th>\n",
       "      <td>2017</td>\n",
       "      <td>May</td>\n",
       "      <td>3.923077</td>\n",
       "      <td>2017 May</td>\n",
       "    </tr>\n",
       "    <tr>\n",
       "      <th>6</th>\n",
       "      <td>2017</td>\n",
       "      <td>November</td>\n",
       "      <td>4.111111</td>\n",
       "      <td>2017 November</td>\n",
       "    </tr>\n",
       "    <tr>\n",
       "      <th>7</th>\n",
       "      <td>2017</td>\n",
       "      <td>October</td>\n",
       "      <td>4.125000</td>\n",
       "      <td>2017 October</td>\n",
       "    </tr>\n",
       "    <tr>\n",
       "      <th>8</th>\n",
       "      <td>2017</td>\n",
       "      <td>September</td>\n",
       "      <td>3.142857</td>\n",
       "      <td>2017 September</td>\n",
       "    </tr>\n",
       "    <tr>\n",
       "      <th>9</th>\n",
       "      <td>2018</td>\n",
       "      <td>April</td>\n",
       "      <td>2.888889</td>\n",
       "      <td>2018 April</td>\n",
       "    </tr>\n",
       "    <tr>\n",
       "      <th>10</th>\n",
       "      <td>2018</td>\n",
       "      <td>August</td>\n",
       "      <td>3.736842</td>\n",
       "      <td>2018 August</td>\n",
       "    </tr>\n",
       "    <tr>\n",
       "      <th>11</th>\n",
       "      <td>2018</td>\n",
       "      <td>December</td>\n",
       "      <td>3.428571</td>\n",
       "      <td>2018 December</td>\n",
       "    </tr>\n",
       "    <tr>\n",
       "      <th>12</th>\n",
       "      <td>2018</td>\n",
       "      <td>February</td>\n",
       "      <td>3.866667</td>\n",
       "      <td>2018 February</td>\n",
       "    </tr>\n",
       "    <tr>\n",
       "      <th>13</th>\n",
       "      <td>2018</td>\n",
       "      <td>January</td>\n",
       "      <td>4.100000</td>\n",
       "      <td>2018 January</td>\n",
       "    </tr>\n",
       "    <tr>\n",
       "      <th>14</th>\n",
       "      <td>2018</td>\n",
       "      <td>July</td>\n",
       "      <td>4.600000</td>\n",
       "      <td>2018 July</td>\n",
       "    </tr>\n",
       "    <tr>\n",
       "      <th>15</th>\n",
       "      <td>2018</td>\n",
       "      <td>June</td>\n",
       "      <td>2.300000</td>\n",
       "      <td>2018 June</td>\n",
       "    </tr>\n",
       "    <tr>\n",
       "      <th>16</th>\n",
       "      <td>2018</td>\n",
       "      <td>March</td>\n",
       "      <td>4.600000</td>\n",
       "      <td>2018 March</td>\n",
       "    </tr>\n",
       "    <tr>\n",
       "      <th>17</th>\n",
       "      <td>2018</td>\n",
       "      <td>May</td>\n",
       "      <td>2.058824</td>\n",
       "      <td>2018 May</td>\n",
       "    </tr>\n",
       "    <tr>\n",
       "      <th>18</th>\n",
       "      <td>2018</td>\n",
       "      <td>November</td>\n",
       "      <td>3.166667</td>\n",
       "      <td>2018 November</td>\n",
       "    </tr>\n",
       "    <tr>\n",
       "      <th>19</th>\n",
       "      <td>2018</td>\n",
       "      <td>October</td>\n",
       "      <td>3.555556</td>\n",
       "      <td>2018 October</td>\n",
       "    </tr>\n",
       "    <tr>\n",
       "      <th>20</th>\n",
       "      <td>2018</td>\n",
       "      <td>September</td>\n",
       "      <td>4.125000</td>\n",
       "      <td>2018 September</td>\n",
       "    </tr>\n",
       "    <tr>\n",
       "      <th>21</th>\n",
       "      <td>2019</td>\n",
       "      <td>April</td>\n",
       "      <td>4.285714</td>\n",
       "      <td>2019 April</td>\n",
       "    </tr>\n",
       "    <tr>\n",
       "      <th>22</th>\n",
       "      <td>2019</td>\n",
       "      <td>August</td>\n",
       "      <td>3.333333</td>\n",
       "      <td>2019 August</td>\n",
       "    </tr>\n",
       "    <tr>\n",
       "      <th>23</th>\n",
       "      <td>2019</td>\n",
       "      <td>December</td>\n",
       "      <td>3.250000</td>\n",
       "      <td>2019 December</td>\n",
       "    </tr>\n",
       "    <tr>\n",
       "      <th>24</th>\n",
       "      <td>2019</td>\n",
       "      <td>February</td>\n",
       "      <td>3.642857</td>\n",
       "      <td>2019 February</td>\n",
       "    </tr>\n",
       "    <tr>\n",
       "      <th>25</th>\n",
       "      <td>2019</td>\n",
       "      <td>January</td>\n",
       "      <td>4.307692</td>\n",
       "      <td>2019 January</td>\n",
       "    </tr>\n",
       "    <tr>\n",
       "      <th>26</th>\n",
       "      <td>2019</td>\n",
       "      <td>July</td>\n",
       "      <td>4.250000</td>\n",
       "      <td>2019 July</td>\n",
       "    </tr>\n",
       "    <tr>\n",
       "      <th>27</th>\n",
       "      <td>2019</td>\n",
       "      <td>June</td>\n",
       "      <td>4.090909</td>\n",
       "      <td>2019 June</td>\n",
       "    </tr>\n",
       "    <tr>\n",
       "      <th>28</th>\n",
       "      <td>2019</td>\n",
       "      <td>March</td>\n",
       "      <td>3.444444</td>\n",
       "      <td>2019 March</td>\n",
       "    </tr>\n",
       "    <tr>\n",
       "      <th>29</th>\n",
       "      <td>2019</td>\n",
       "      <td>May</td>\n",
       "      <td>4.250000</td>\n",
       "      <td>2019 May</td>\n",
       "    </tr>\n",
       "    <tr>\n",
       "      <th>30</th>\n",
       "      <td>2019</td>\n",
       "      <td>November</td>\n",
       "      <td>4.800000</td>\n",
       "      <td>2019 November</td>\n",
       "    </tr>\n",
       "    <tr>\n",
       "      <th>31</th>\n",
       "      <td>2019</td>\n",
       "      <td>October</td>\n",
       "      <td>3.714286</td>\n",
       "      <td>2019 October</td>\n",
       "    </tr>\n",
       "    <tr>\n",
       "      <th>32</th>\n",
       "      <td>2019</td>\n",
       "      <td>September</td>\n",
       "      <td>3.818182</td>\n",
       "      <td>2019 September</td>\n",
       "    </tr>\n",
       "    <tr>\n",
       "      <th>33</th>\n",
       "      <td>2020</td>\n",
       "      <td>April</td>\n",
       "      <td>5.000000</td>\n",
       "      <td>2020 April</td>\n",
       "    </tr>\n",
       "    <tr>\n",
       "      <th>34</th>\n",
       "      <td>2020</td>\n",
       "      <td>August</td>\n",
       "      <td>3.750000</td>\n",
       "      <td>2020 August</td>\n",
       "    </tr>\n",
       "    <tr>\n",
       "      <th>35</th>\n",
       "      <td>2020</td>\n",
       "      <td>December</td>\n",
       "      <td>4.666667</td>\n",
       "      <td>2020 December</td>\n",
       "    </tr>\n",
       "    <tr>\n",
       "      <th>36</th>\n",
       "      <td>2020</td>\n",
       "      <td>February</td>\n",
       "      <td>4.833333</td>\n",
       "      <td>2020 February</td>\n",
       "    </tr>\n",
       "    <tr>\n",
       "      <th>37</th>\n",
       "      <td>2020</td>\n",
       "      <td>January</td>\n",
       "      <td>3.500000</td>\n",
       "      <td>2020 January</td>\n",
       "    </tr>\n",
       "    <tr>\n",
       "      <th>38</th>\n",
       "      <td>2020</td>\n",
       "      <td>July</td>\n",
       "      <td>2.500000</td>\n",
       "      <td>2020 July</td>\n",
       "    </tr>\n",
       "    <tr>\n",
       "      <th>39</th>\n",
       "      <td>2020</td>\n",
       "      <td>March</td>\n",
       "      <td>3.800000</td>\n",
       "      <td>2020 March</td>\n",
       "    </tr>\n",
       "    <tr>\n",
       "      <th>40</th>\n",
       "      <td>2020</td>\n",
       "      <td>May</td>\n",
       "      <td>3.333333</td>\n",
       "      <td>2020 May</td>\n",
       "    </tr>\n",
       "    <tr>\n",
       "      <th>41</th>\n",
       "      <td>2020</td>\n",
       "      <td>November</td>\n",
       "      <td>3.333333</td>\n",
       "      <td>2020 November</td>\n",
       "    </tr>\n",
       "    <tr>\n",
       "      <th>42</th>\n",
       "      <td>2020</td>\n",
       "      <td>October</td>\n",
       "      <td>4.000000</td>\n",
       "      <td>2020 October</td>\n",
       "    </tr>\n",
       "    <tr>\n",
       "      <th>43</th>\n",
       "      <td>2020</td>\n",
       "      <td>September</td>\n",
       "      <td>3.000000</td>\n",
       "      <td>2020 September</td>\n",
       "    </tr>\n",
       "    <tr>\n",
       "      <th>44</th>\n",
       "      <td>2021</td>\n",
       "      <td>April</td>\n",
       "      <td>5.000000</td>\n",
       "      <td>2021 April</td>\n",
       "    </tr>\n",
       "    <tr>\n",
       "      <th>45</th>\n",
       "      <td>2021</td>\n",
       "      <td>August</td>\n",
       "      <td>4.000000</td>\n",
       "      <td>2021 August</td>\n",
       "    </tr>\n",
       "    <tr>\n",
       "      <th>46</th>\n",
       "      <td>2021</td>\n",
       "      <td>February</td>\n",
       "      <td>3.500000</td>\n",
       "      <td>2021 February</td>\n",
       "    </tr>\n",
       "    <tr>\n",
       "      <th>47</th>\n",
       "      <td>2021</td>\n",
       "      <td>January</td>\n",
       "      <td>4.000000</td>\n",
       "      <td>2021 January</td>\n",
       "    </tr>\n",
       "    <tr>\n",
       "      <th>48</th>\n",
       "      <td>2021</td>\n",
       "      <td>July</td>\n",
       "      <td>3.333333</td>\n",
       "      <td>2021 July</td>\n",
       "    </tr>\n",
       "    <tr>\n",
       "      <th>49</th>\n",
       "      <td>2021</td>\n",
       "      <td>June</td>\n",
       "      <td>3.000000</td>\n",
       "      <td>2021 June</td>\n",
       "    </tr>\n",
       "    <tr>\n",
       "      <th>50</th>\n",
       "      <td>2021</td>\n",
       "      <td>March</td>\n",
       "      <td>4.000000</td>\n",
       "      <td>2021 March</td>\n",
       "    </tr>\n",
       "    <tr>\n",
       "      <th>51</th>\n",
       "      <td>2021</td>\n",
       "      <td>May</td>\n",
       "      <td>3.833333</td>\n",
       "      <td>2021 May</td>\n",
       "    </tr>\n",
       "    <tr>\n",
       "      <th>52</th>\n",
       "      <td>2021</td>\n",
       "      <td>October</td>\n",
       "      <td>5.000000</td>\n",
       "      <td>2021 October</td>\n",
       "    </tr>\n",
       "    <tr>\n",
       "      <th>53</th>\n",
       "      <td>2021</td>\n",
       "      <td>September</td>\n",
       "      <td>4.333333</td>\n",
       "      <td>2021 September</td>\n",
       "    </tr>\n",
       "  </tbody>\n",
       "</table>\n",
       "</div>"
      ],
      "text/plain": [
       "    year      month    Rating              my\n",
       "0   2017      April  3.000000      2017 April\n",
       "1   2017     August  4.153846     2017 August\n",
       "2   2017   December  3.428571   2017 December\n",
       "3   2017       July  3.750000       2017 July\n",
       "4   2017       June  3.538462       2017 June\n",
       "5   2017        May  3.923077        2017 May\n",
       "6   2017   November  4.111111   2017 November\n",
       "7   2017    October  4.125000    2017 October\n",
       "8   2017  September  3.142857  2017 September\n",
       "9   2018      April  2.888889      2018 April\n",
       "10  2018     August  3.736842     2018 August\n",
       "11  2018   December  3.428571   2018 December\n",
       "12  2018   February  3.866667   2018 February\n",
       "13  2018    January  4.100000    2018 January\n",
       "14  2018       July  4.600000       2018 July\n",
       "15  2018       June  2.300000       2018 June\n",
       "16  2018      March  4.600000      2018 March\n",
       "17  2018        May  2.058824        2018 May\n",
       "18  2018   November  3.166667   2018 November\n",
       "19  2018    October  3.555556    2018 October\n",
       "20  2018  September  4.125000  2018 September\n",
       "21  2019      April  4.285714      2019 April\n",
       "22  2019     August  3.333333     2019 August\n",
       "23  2019   December  3.250000   2019 December\n",
       "24  2019   February  3.642857   2019 February\n",
       "25  2019    January  4.307692    2019 January\n",
       "26  2019       July  4.250000       2019 July\n",
       "27  2019       June  4.090909       2019 June\n",
       "28  2019      March  3.444444      2019 March\n",
       "29  2019        May  4.250000        2019 May\n",
       "30  2019   November  4.800000   2019 November\n",
       "31  2019    October  3.714286    2019 October\n",
       "32  2019  September  3.818182  2019 September\n",
       "33  2020      April  5.000000      2020 April\n",
       "34  2020     August  3.750000     2020 August\n",
       "35  2020   December  4.666667   2020 December\n",
       "36  2020   February  4.833333   2020 February\n",
       "37  2020    January  3.500000    2020 January\n",
       "38  2020       July  2.500000       2020 July\n",
       "39  2020      March  3.800000      2020 March\n",
       "40  2020        May  3.333333        2020 May\n",
       "41  2020   November  3.333333   2020 November\n",
       "42  2020    October  4.000000    2020 October\n",
       "43  2020  September  3.000000  2020 September\n",
       "44  2021      April  5.000000      2021 April\n",
       "45  2021     August  4.000000     2021 August\n",
       "46  2021   February  3.500000   2021 February\n",
       "47  2021    January  4.000000    2021 January\n",
       "48  2021       July  3.333333       2021 July\n",
       "49  2021       June  3.000000       2021 June\n",
       "50  2021      March  4.000000      2021 March\n",
       "51  2021        May  3.833333        2021 May\n",
       "52  2021    October  5.000000    2021 October\n",
       "53  2021  September  4.333333  2021 September"
      ]
     },
     "execution_count": 22,
     "metadata": {},
     "output_type": "execute_result"
    }
   ],
   "source": [
    "monthlyRating"
   ]
  },
  {
   "cell_type": "code",
   "execution_count": 23,
   "metadata": {},
   "outputs": [],
   "source": [
    "x = monthlyRating['my']\n",
    "y = monthlyRating['Rating']"
   ]
  },
  {
   "cell_type": "code",
   "execution_count": 24,
   "metadata": {},
   "outputs": [
    {
     "data": {
      "image/png": "[encoded data removed]",
      "text/plain": [
       "<Figure size 432x288 with 1 Axes>"
      ]
     },
     "metadata": {
      "needs_background": "light"
     },
     "output_type": "display_data"
    },
    {
     "data": {
      "text/plain": [
       "<Figure size 3600x1080 with 0 Axes>"
      ]
     },
     "metadata": {},
     "output_type": "display_data"
    }
   ],
   "source": [
    "plt.plot(x,y)\n",
    "plt.title('Monthly Rating Aggregate')\n",
    "plt.ylabel('Rating')\n",
    "plt.xlabel('Month and Year')\n",
    "plt.figure(figsize=(50,15))\n",
    "plt.show()"
   ]
  },
  {
   "cell_type": "markdown",
   "metadata": {},
   "source": [
    "# Food Occurences in Menu"
   ]
  },
  {
   "cell_type": "code",
   "execution_count": 34,
   "metadata": {},
   "outputs": [],
   "source": [
    "lst = []\n",
    "for i, row in thaiVilla.iterrows():\n",
    "    count = 0\n",
    "    s = row.Review.lower().replace(' ', '')\n",
    "    for i in thaiMenu:\n",
    "        i = i.lower()\n",
    "        if i.replace(' ', '') in s:\n",
    "            count += 1\n",
    "    lst.append(count)\n",
    "    \n",
    "#     print(i, row)\n",
    "#     count = 0\n",
    "#     s = row.Review.lower()\n",
    "#     s = s.plit()\n",
    "#     seven = s[:7]\n",
    "#     six = s[:6]\n",
    "#     five = s[:5]\n",
    "#     four = s[:4]\n",
    "#     three = s[:3]\n",
    "#     two = s[:2]\n",
    "#     for j in s:\n",
    "#         if j in thaiMenu:\n",
    "#             count += 1\n",
    "#     for j in s:\n",
    "#         if seven in s or sixe.....:\n",
    "#             count += 1\n",
    "#         seven = seven[1:] + [j]\n",
    "#         ...\n",
    "#     lst.append(count)\n",
    "#     break"
   ]
  },
  {
   "cell_type": "code",
   "execution_count": 35,
   "metadata": {},
   "outputs": [],
   "source": [
    "thaiVilla['Food Occurs'] = lst"
   ]
  },
  {
   "cell_type": "markdown",
   "metadata": {},
   "source": [
    "# Catching Sentiment in Reviews"
   ]
  },
  {
   "cell_type": "code",
   "execution_count": 36,
   "metadata": {},
   "outputs": [],
   "source": [
    "positive = {'best', 'amazing', 'love', 'good', 'perfect', 'fantastic', 'beautiful', 'yummy', 'delicious'}\n",
    "negative = {'horrible', 'bad', 'gross', 'hate', 'disgusting', 'dread', 'terrible'}"
   ]
  },
  {
   "cell_type": "code",
   "execution_count": 37,
   "metadata": {},
   "outputs": [],
   "source": [
    "plst = []\n",
    "nlst = []\n",
    "for i, row in thaiVilla.iterrows():\n",
    "    gcount = 0\n",
    "    ncount = 0\n",
    "    s = row.Review.lower().replace(' ', '')\n",
    "    for i in positive:\n",
    "        if i in s:\n",
    "            gcount += 1\n",
    "    for i in negative:\n",
    "        if i in s:\n",
    "            ncount += 1     \n",
    "    plst.append(gcount)\n",
    "    nlst.append(ncount)"
   ]
  },
  {
   "cell_type": "code",
   "execution_count": 38,
   "metadata": {},
   "outputs": [],
   "source": [
    "thaiVilla['Positive Occurs'] = plst\n",
    "thaiVilla['Negative Occurs'] = nlst"
   ]
  },
  {
   "cell_type": "code",
   "execution_count": 39,
   "metadata": {},
   "outputs": [
    {
     "data": {
      "text/html": [
       "<div>\n",
       "<style scoped>\n",
       "    .dataframe tbody tr th:only-of-type {\n",
       "        vertical-align: middle;\n",
       "    }\n",
       "\n",
       "    .dataframe tbody tr th {\n",
       "        vertical-align: top;\n",
       "    }\n",
       "\n",
       "    .dataframe thead th {\n",
       "        text-align: right;\n",
       "    }\n",
       "</style>\n",
       "<table border=\"1\" class=\"dataframe\">\n",
       "  <thead>\n",
       "    <tr style=\"text-align: right;\">\n",
       "      <th></th>\n",
       "      <th>Friends</th>\n",
       "      <th>Name</th>\n",
       "      <th>Rating</th>\n",
       "      <th>Review</th>\n",
       "      <th>UserReviews</th>\n",
       "      <th>Photos</th>\n",
       "      <th>Date</th>\n",
       "      <th>Food Occurs</th>\n",
       "      <th>Positive Occurs</th>\n",
       "      <th>Negative Occurs</th>\n",
       "    </tr>\n",
       "  </thead>\n",
       "  <tbody>\n",
       "    <tr>\n",
       "      <th>0</th>\n",
       "      <td>414</td>\n",
       "      <td>David X.</td>\n",
       "      <td>5</td>\n",
       "      <td>A bit on the pricier side of things but it was...</td>\n",
       "      <td>38</td>\n",
       "      <td>37</td>\n",
       "      <td>2021-10-10</td>\n",
       "      <td>1</td>\n",
       "      <td>2</td>\n",
       "      <td>0</td>\n",
       "    </tr>\n",
       "    <tr>\n",
       "      <th>1</th>\n",
       "      <td>16</td>\n",
       "      <td>Bianca W.</td>\n",
       "      <td>5</td>\n",
       "      <td>Ok so here's the list of things I had! All I'm...</td>\n",
       "      <td>95</td>\n",
       "      <td>253</td>\n",
       "      <td>2021-09-17</td>\n",
       "      <td>12</td>\n",
       "      <td>1</td>\n",
       "      <td>1</td>\n",
       "    </tr>\n",
       "    <tr>\n",
       "      <th>2</th>\n",
       "      <td>11</td>\n",
       "      <td>Ms F.</td>\n",
       "      <td>3</td>\n",
       "      <td>It's asian fusion than Japanese. Miso black co...</td>\n",
       "      <td>216</td>\n",
       "      <td>106</td>\n",
       "      <td>2021-08-10</td>\n",
       "      <td>0</td>\n",
       "      <td>0</td>\n",
       "      <td>0</td>\n",
       "    </tr>\n",
       "    <tr>\n",
       "      <th>3</th>\n",
       "      <td>11</td>\n",
       "      <td>Cindy Y.</td>\n",
       "      <td>5</td>\n",
       "      <td>Fond memories! Bruce and I love this place. We...</td>\n",
       "      <td>50</td>\n",
       "      <td>398</td>\n",
       "      <td>2021-10-25</td>\n",
       "      <td>1</td>\n",
       "      <td>1</td>\n",
       "      <td>0</td>\n",
       "    </tr>\n",
       "    <tr>\n",
       "      <th>4</th>\n",
       "      <td>14</td>\n",
       "      <td>Joe O.</td>\n",
       "      <td>4</td>\n",
       "      <td>My girlfriend and I came here for the first ti...</td>\n",
       "      <td>54</td>\n",
       "      <td>74</td>\n",
       "      <td>2021-08-08</td>\n",
       "      <td>4</td>\n",
       "      <td>3</td>\n",
       "      <td>1</td>\n",
       "    </tr>\n",
       "    <tr>\n",
       "      <th>...</th>\n",
       "      <td>...</td>\n",
       "      <td>...</td>\n",
       "      <td>...</td>\n",
       "      <td>...</td>\n",
       "      <td>...</td>\n",
       "      <td>...</td>\n",
       "      <td>...</td>\n",
       "      <td>...</td>\n",
       "      <td>...</td>\n",
       "      <td>...</td>\n",
       "    </tr>\n",
       "    <tr>\n",
       "      <th>452</th>\n",
       "      <td>0</td>\n",
       "      <td>Stewart H.</td>\n",
       "      <td>5</td>\n",
       "      <td>Tried the new spot.  Everything as before but ...</td>\n",
       "      <td>11</td>\n",
       "      <td>0</td>\n",
       "      <td>2017-05-21</td>\n",
       "      <td>0</td>\n",
       "      <td>1</td>\n",
       "      <td>0</td>\n",
       "    </tr>\n",
       "    <tr>\n",
       "      <th>453</th>\n",
       "      <td>0</td>\n",
       "      <td>John M.</td>\n",
       "      <td>2</td>\n",
       "      <td>After going to the TriBeCa location for the pa...</td>\n",
       "      <td>2</td>\n",
       "      <td>0</td>\n",
       "      <td>2017-04-20</td>\n",
       "      <td>1</td>\n",
       "      <td>3</td>\n",
       "      <td>0</td>\n",
       "    </tr>\n",
       "    <tr>\n",
       "      <th>454</th>\n",
       "      <td>0</td>\n",
       "      <td>Dottie N.</td>\n",
       "      <td>5</td>\n",
       "      <td>Ambience is chic elegant the space is beautifu...</td>\n",
       "      <td>74</td>\n",
       "      <td>1</td>\n",
       "      <td>2017-05-18</td>\n",
       "      <td>0</td>\n",
       "      <td>3</td>\n",
       "      <td>0</td>\n",
       "    </tr>\n",
       "    <tr>\n",
       "      <th>455</th>\n",
       "      <td>0</td>\n",
       "      <td>Joe L.</td>\n",
       "      <td>5</td>\n",
       "      <td>it's pricey, but you get what you pay for....b...</td>\n",
       "      <td>24</td>\n",
       "      <td>3</td>\n",
       "      <td>2018-06-20</td>\n",
       "      <td>0</td>\n",
       "      <td>1</td>\n",
       "      <td>0</td>\n",
       "    </tr>\n",
       "    <tr>\n",
       "      <th>456</th>\n",
       "      <td>0</td>\n",
       "      <td>Lana F.</td>\n",
       "      <td>4</td>\n",
       "      <td>We came to the place for some drinks and food....</td>\n",
       "      <td>32</td>\n",
       "      <td>12</td>\n",
       "      <td>2018-02-28</td>\n",
       "      <td>2</td>\n",
       "      <td>2</td>\n",
       "      <td>0</td>\n",
       "    </tr>\n",
       "  </tbody>\n",
       "</table>\n",
       "<p>457 rows × 10 columns</p>\n",
       "</div>"
      ],
      "text/plain": [
       "     Friends        Name  Rating  \\\n",
       "0        414    David X.       5   \n",
       "1         16   Bianca W.       5   \n",
       "2         11       Ms F.       3   \n",
       "3         11    Cindy Y.       5   \n",
       "4         14      Joe O.       4   \n",
       "..       ...         ...     ...   \n",
       "452        0  Stewart H.       5   \n",
       "453        0     John M.       2   \n",
       "454        0   Dottie N.       5   \n",
       "455        0      Joe L.       5   \n",
       "456        0     Lana F.       4   \n",
       "\n",
       "                                                Review  UserReviews  Photos  \\\n",
       "0    A bit on the pricier side of things but it was...           38      37   \n",
       "1    Ok so here's the list of things I had! All I'm...           95     253   \n",
       "2    It's asian fusion than Japanese. Miso black co...          216     106   \n",
       "3    Fond memories! Bruce and I love this place. We...           50     398   \n",
       "4    My girlfriend and I came here for the first ti...           54      74   \n",
       "..                                                 ...          ...     ...   \n",
       "452  Tried the new spot.  Everything as before but ...           11       0   \n",
       "453  After going to the TriBeCa location for the pa...            2       0   \n",
       "454  Ambience is chic elegant the space is beautifu...           74       1   \n",
       "455  it's pricey, but you get what you pay for....b...           24       3   \n",
       "456  We came to the place for some drinks and food....           32      12   \n",
       "\n",
       "          Date  Food Occurs  Positive Occurs  Negative Occurs  \n",
       "0   2021-10-10            1                2                0  \n",
       "1   2021-09-17           12                1                1  \n",
       "2   2021-08-10            0                0                0  \n",
       "3   2021-10-25            1                1                0  \n",
       "4   2021-08-08            4                3                1  \n",
       "..         ...          ...              ...              ...  \n",
       "452 2017-05-21            0                1                0  \n",
       "453 2017-04-20            1                3                0  \n",
       "454 2017-05-18            0                3                0  \n",
       "455 2018-06-20            0                1                0  \n",
       "456 2018-02-28            2                2                0  \n",
       "\n",
       "[457 rows x 10 columns]"
      ]
     },
     "execution_count": 39,
     "metadata": {},
     "output_type": "execute_result"
    }
   ],
   "source": [
    "thaiVilla"
   ]
  },
  {
   "cell_type": "markdown",
   "metadata": {},
   "source": [
    "# Correlation Heatmap"
   ]
  },
  {
   "cell_type": "code",
   "execution_count": 40,
   "metadata": {},
   "outputs": [
    {
     "data": {
      "text/plain": [
       "<matplotlib.axes._subplots.AxesSubplot at 0x7ffdbd460610>"
      ]
     },
     "execution_count": 40,
     "metadata": {},
     "output_type": "execute_result"
    },
    {
     "data": {
      "image/png": "[encoded data removed]",
      "text/plain": [
       "<Figure size 720x720 with 2 Axes>"
      ]
     },
     "metadata": {
      "needs_background": "light"
     },
     "output_type": "display_data"
    }
   ],
   "source": [
    "correlation = thaiVilla[['Friends', 'Rating', 'UserReviews', 'Photos', 'Food Occurs', 'Positive Occurs', 'Negative Occurs']]\n",
    "\n",
    "corr = correlation.corr(method='kendall')\n",
    "plt.figure(figsize=(10,10))\n",
    "sns.heatmap(corr, annot=True, cmap=\"RdYlBu\")"
   ]
  },
  {
   "cell_type": "markdown",
   "metadata": {},
   "source": [
    "# Positive Sentiment Analysis"
   ]
  },
  {
   "cell_type": "code",
   "execution_count": 41,
   "metadata": {},
   "outputs": [
    {
     "data": {
      "image/png": "[encoded data removed]",
      "text/plain": [
       "<Figure size 432x288 with 1 Axes>"
      ]
     },
     "metadata": {
      "needs_background": "light"
     },
     "output_type": "display_data"
    }
   ],
   "source": [
    "posOcc = thaiVilla['Positive Occurs']\n",
    "posOcc.hist(bins = 10)\n",
    "plt.xlabel('Number of Positive Occurences')\n",
    "plt.ylabel('Frequency')\n",
    "# plt.xlim(xmin=0, xmax = 400)\n",
    "plt.title('Distribution of Positive Occurences')\n",
    "#plt.figure(figsize=(20,20))\n",
    "plt.show()"
   ]
  },
  {
   "cell_type": "markdown",
   "metadata": {},
   "source": [
    "# Negative Sentiment Analysis"
   ]
  },
  {
   "cell_type": "code",
   "execution_count": 42,
   "metadata": {},
   "outputs": [
    {
     "data": {
      "image/png": "[encoded data removed]",
      "text/plain": [
       "<Figure size 432x288 with 1 Axes>"
      ]
     },
     "metadata": {
      "needs_background": "light"
     },
     "output_type": "display_data"
    }
   ],
   "source": [
    "negOcc = thaiVilla['Negative Occurs']\n",
    "negOcc.hist(bins = 5)\n",
    "plt.xlabel('Number of Negative Occurences')\n",
    "plt.ylabel('Frequency')\n",
    "# plt.xlim(xmin=0, xmax = 400)\n",
    "plt.title('Distribution of Negative Occurences')\n",
    "#plt.figure(figsize=(20,20))\n",
    "plt.show()"
   ]
  },
  {
   "cell_type": "code",
   "execution_count": null,
   "metadata": {},
   "outputs": [],
   "source": []
  },
  {
   "cell_type": "code",
   "execution_count": null,
   "metadata": {},
   "outputs": [],
   "source": []
  }
 ],
 "metadata": {
  "kernelspec": {
   "display_name": "Python 3",
   "language": "python",
   "name": "python3"
  },
  "language_info": {
   "codemirror_mode": {
    "name": "ipython",
    "version": 3
   },
   "file_extension": ".py",
   "mimetype": "text/x-python",
   "name": "python",
   "nbconvert_exporter": "python",
   "pygments_lexer": "ipython3",
   "version": "3.7.6"
  }
 },
 "nbformat": 4,
 "nbformat_minor": 4
}
